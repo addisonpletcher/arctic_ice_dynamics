{
  "cells": [
    {
      "cell_type": "markdown",
      "metadata": {
        "id": "view-in-github",
        "colab_type": "text"
      },
      "source": [
        "<a href=\"https://colab.research.google.com/github/addisonpletcher/arctic_ice_dynamics/blob/main/Ice_LakeTimeSeries.ipynb\" target=\"_parent\"><img src=\"https://colab.research.google.com/assets/colab-badge.svg\" alt=\"Open In Colab\"/></a>"
      ]
    },
    {
      "cell_type": "code",
      "execution_count": null,
      "metadata": {
        "id": "LGgPxn5kJfmq",
        "colab": {
          "base_uri": "https://localhost:8080/",
          "height": 53
        },
        "outputId": "367886ef-59c7-4bb3-b984-14a95f071d36"
      },
      "outputs": [
        {
          "output_type": "display_data",
          "data": {
            "text/plain": [
              "<IPython.core.display.HTML object>"
            ],
            "text/html": [
              "\n",
              "            <style>\n",
              "                .geemap-dark {\n",
              "                    --jp-widgets-color: white;\n",
              "                    --jp-widgets-label-color: white;\n",
              "                    --jp-ui-font-color1: white;\n",
              "                    --jp-layout-color2: #454545;\n",
              "                    background-color: #383838;\n",
              "                }\n",
              "\n",
              "                .geemap-dark .jupyter-button {\n",
              "                    --jp-layout-color3: #383838;\n",
              "                }\n",
              "\n",
              "                .geemap-colab {\n",
              "                    background-color: var(--colab-primary-surface-color, white);\n",
              "                }\n",
              "\n",
              "                .geemap-colab .jupyter-button {\n",
              "                    --jp-layout-color3: var(--colab-primary-surface-color, white);\n",
              "                }\n",
              "            </style>\n",
              "            "
            ]
          },
          "metadata": {}
        },
        {
          "output_type": "execute_result",
          "data": {
            "text/plain": [
              "'\\nauthor: @ericslevenson\\nadapted by: @addisonpletcher\\ndate: 10/15/2023\\ndescription: GEE script to export near-daily records of lake area within a\\nshapefile of buffered lakes\\n\\nCopy of Lake Script, adding in Ice classification\\n'"
            ],
            "application/vnd.google.colaboratory.intrinsic+json": {
              "type": "string"
            }
          },
          "metadata": {},
          "execution_count": 9
        }
      ],
      "source": [
        "'''\n",
        "author: @ericslevenson\n",
        "adapted by: @addisonpletcher\n",
        "date: 10/15/2023\n",
        "description: GEE script to export near-daily records of lake area within a\n",
        "shapefile of buffered lakes\n",
        "\n",
        "Copy of Lake Script, adding in Ice classification\n",
        "'''"
      ]
    },
    {
      "cell_type": "markdown",
      "metadata": {
        "id": "Kt-UVUejLtzO"
      },
      "source": [
        "# Preliminary"
      ]
    },
    {
      "cell_type": "code",
      "execution_count": null,
      "metadata": {
        "id": "K1xZzHHaKB0M"
      },
      "outputs": [],
      "source": [
        "# Earth Engine setup\n",
        "import ee # Trigger the authentication flow.\n",
        "ee.Authenticate()\n",
        "ee.Initialize(project='ee-addisonpletcher') # Initialize the library.\n",
        "\n",
        "# Google Drive setup (if needed)\n",
        "from google.colab import drive\n",
        "drive.mount('/content/drive')\n",
        "\n",
        "#Libraries\n",
        "import folium\n",
        "import geemap"
      ]
    },
    {
      "cell_type": "markdown",
      "source": [
        "#### Inputs"
      ],
      "metadata": {
        "id": "4EgrGfl5D7uW"
      }
    },
    {
      "cell_type": "code",
      "execution_count": 35,
      "metadata": {
        "id": "I3GpdMVWKFzj",
        "colab": {
          "base_uri": "https://localhost:8080/",
          "height": 17
        },
        "outputId": "d4329c3c-0c66-4f45-8788-81f876dea31c"
      },
      "outputs": [
        {
          "output_type": "display_data",
          "data": {
            "text/plain": [
              "<IPython.core.display.HTML object>"
            ],
            "text/html": [
              "\n",
              "            <style>\n",
              "                .geemap-dark {\n",
              "                    --jp-widgets-color: white;\n",
              "                    --jp-widgets-label-color: white;\n",
              "                    --jp-ui-font-color1: white;\n",
              "                    --jp-layout-color2: #454545;\n",
              "                    background-color: #383838;\n",
              "                }\n",
              "\n",
              "                .geemap-dark .jupyter-button {\n",
              "                    --jp-layout-color3: #383838;\n",
              "                }\n",
              "\n",
              "                .geemap-colab {\n",
              "                    background-color: var(--colab-primary-surface-color, white);\n",
              "                }\n",
              "\n",
              "                .geemap-colab .jupyter-button {\n",
              "                    --jp-layout-color3: var(--colab-primary-surface-color, white);\n",
              "                }\n",
              "            </style>\n",
              "            "
            ]
          },
          "metadata": {}
        }
      ],
      "source": [
        "## Regularly Adjusted inputs ##\n",
        "# Time Period\n",
        "start = '2020-04-01'\n",
        "finish = '2020-06-30'\n",
        "# Tile of interest\n",
        "tile = 17\n",
        "# Lake Shapefile\n",
        "#lakes = ee.FeatureCollection('projects/ee-addisonpletcher/assets/Kusk_LakeMask') # to be used for water classification\n",
        "lakes_forIce = ee.FeatureCollection('projects/ee-addisonpletcher/assets/Kusk_LakeMask') # to be used for ice classification\n",
        "\n",
        "## Periodically Adjusted Inputs ##\n",
        "# Area of Interest\n",
        "aoi = ee.FeatureCollection('projects/ee-addisonpletcher/assets/Gridded_Kusk_ROI')\n",
        "\n",
        "## Rarely Adjusted inputs ##\n",
        "# Image scale\n",
        "pixScale = 10\n",
        "\n",
        "# ***EXPORTS***\n",
        "# Export Properties\n",
        "exportSelectorsIce = ['Lake_ID', 'iceArea', 'totalArea', 'clearArea', 'cloudArea', 'centroid']\n",
        "# Description\n",
        "labelI = str('tile'+str(tile))\n",
        "# Export Folder\n",
        "exportFolder = 'YKD_gridded'\n",
        "\n",
        "\n",
        "\n",
        "# ***EARTH ENGINE-IFY***\n",
        "eestart = ee.Date(start)\n",
        "eefinish = ee.Date(finish)\n",
        "startDoy = ee.Date(start).getRelative('day', 'year')\n",
        "endDoy = ee.Date(finish).getRelative('day', 'year')\n",
        "eeroi = aoi.filter(ee.Filter.eq('id', tile)).first()\n",
        "roi = ee.Geometry.Polygon(eeroi.geometry().getInfo()['coordinates'][0])\n",
        "#lakes = lakes.filterBounds(roi) # filter lakes to roi\n",
        "lakes_forIce = lakes_forIce.filterBounds(roi)"
      ]
    },
    {
      "cell_type": "markdown",
      "metadata": {
        "id": "t7SvYUcsTcMN"
      },
      "source": [
        "# Functions\n",
        "#### -> Preprocessing, Ice classification, Property Extraction + Export methods"
      ]
    },
    {
      "cell_type": "markdown",
      "source": [
        "### Image Pre-Processing Methods"
      ],
      "metadata": {
        "id": "IGb-25yA9n92"
      }
    },
    {
      "cell_type": "code",
      "source": [
        "# Mask clouds in Sentinel-2\n",
        "def maskS2clouds(image):\n",
        "  '''Takes an input and adds two bands: cloud mask and clear mask'''\n",
        "  qa = image.select('QA60')\n",
        "  cloudBitMask = 1 << 10\n",
        "  cirrusBitMask = 1 << 11\n",
        "  clear_mask = qa.bitwiseAnd(cloudBitMask).eq(0).And(qa.bitwiseAnd(cirrusBitMask).eq(0)).rename('clear_mask')\n",
        "  cloud_mask = qa.bitwiseAnd(cloudBitMask).eq(1).And(qa.bitwiseAnd(cirrusBitMask).eq(1)).rename('cloud_mask')\n",
        "  return image.addBands([cloud_mask,clear_mask])\n",
        "\n",
        "def createCloudMaskForIce(image): # @ eric - added this function\n",
        "    '''Creates a cloud mask for ice analysis by inverting the clear mask'''\n",
        "    cloud_mask_ed = image.select('clear_mask').Not().rename('cloud_mask_ed')\n",
        "    return image.addBands(cloud_mask_ed)\n",
        "\n",
        "# Clip image\n",
        "def clip_image(image):\n",
        "  '''Clips to the roi defined at the beginning of the script'''\n",
        "  return image.clip(roi)\n",
        "\n",
        "def clip2lakes_ice(image):\n",
        "  '''Clips an image based on the lake boundaries'''\n",
        "  return image.clip(lakes_forIce)\n",
        "\n",
        "# Get percentile cover\n",
        "def getCover(image):\n",
        "  '''calculates percentage of the roi covered by the clear mask. NOTE: this function\n",
        "  calls the global totPixels variable that needs to be calculated in the main script.'''\n",
        "  actArea = ee.Number(image.updateMask(image.select('B2')).reduceRegion(\n",
        "      reducer = ee.Reducer.count(),\n",
        "      scale = 100,\n",
        "      maxPixels=1e12,\n",
        "      ).values().get(0)).multiply(10000)\n",
        "  # calculate the perc of cover OF CLEAR PIXELS\n",
        "  percCover = actArea.divide(area).multiply(100)\n",
        "  # number as output\n",
        "  return image.set('percCover', percCover,'actArea',actArea)\n",
        "\n",
        "# Mosaic images by date, orbit, - basically combines images together that were taken on the same day\n",
        "def mosaicBy(imcol):\n",
        "  '''Takes an image collection (imcol) and creates a mosaic for each day\n",
        "  Returns: An image collection of daily mosaics'''\n",
        "  #return the collection as a list of images (not an image collection)\n",
        "  imlist = imcol.toList(imcol.size())\n",
        "  # Get all the dates as list\n",
        "  def imdate(im):\n",
        "    date = ee.Image(im).date().format(\"YYYY-MM-dd\")\n",
        "    return date\n",
        "  all_dates = imlist.map(imdate)\n",
        "  # get all orbits as list\n",
        "  def orbitId(im):\n",
        "    orb = ee.Image(im).get('SENSING_ORBIT_NUMBER')\n",
        "    return orb\n",
        "  all_orbits = imlist.map(orbitId)\n",
        "  # get all spacecraft names as list\n",
        "  def spacecraft(im):\n",
        "    return ee.Image(im).get('SPACECRAFT_NAME')\n",
        "  all_spNames = imlist.map(spacecraft)\n",
        "  # this puts dates, orbits and names into a nested list\n",
        "  concat_all = all_dates.zip(all_orbits).zip(all_spNames);\n",
        "  # here we unnest the list with flatten, and then concatenate the list elements with \" \"\n",
        "  def concat(el):\n",
        "    return ee.List(el).flatten().join(\" \")\n",
        "  concat_all = concat_all.map(concat)\n",
        "  # here, just get distinct combintations of date, orbit and name\n",
        "  concat_unique = concat_all.distinct()\n",
        "  # mosaic\n",
        "  def mosaicIms(d):\n",
        "    d1 = ee.String(d).split(\" \")\n",
        "    date1 = ee.Date(d1.get(0))\n",
        "    orbit = ee.Number.parse(d1.get(1)).toInt()\n",
        "    spName = ee.String(d1.get(2))\n",
        "    im = imcol.filterDate(date1, date1.advance(1, \"day\")).filterMetadata('SPACECRAFT_NAME', 'equals', spName).filterMetadata('SENSING_ORBIT_NUMBER','equals', orbit).mosaic()\n",
        "    return im.set(\n",
        "        \"system:time_start\", date1.millis(),\n",
        "        \"system:date\", date1.format(\"YYYY-MM-dd\"),\n",
        "        \"system:id\", d1)\n",
        "  mosaic_imlist = concat_unique.map(mosaicIms)\n",
        "  return ee.ImageCollection(mosaic_imlist)\n",
        "\n",
        "\n",
        "# Apply cloud mask to other bands\n",
        "def applyMask(image):\n",
        "  img = image.updateMask(image.select('clear_mask'))\n",
        "  return img"
      ],
      "metadata": {
        "id": "y6z84fHQ9XoG",
        "colab": {
          "base_uri": "https://localhost:8080/",
          "height": 17
        },
        "outputId": "e301720c-0963-4eb9-f02a-bc4e37341da3"
      },
      "execution_count": 36,
      "outputs": [
        {
          "output_type": "display_data",
          "data": {
            "text/plain": [
              "<IPython.core.display.HTML object>"
            ],
            "text/html": [
              "\n",
              "            <style>\n",
              "                .geemap-dark {\n",
              "                    --jp-widgets-color: white;\n",
              "                    --jp-widgets-label-color: white;\n",
              "                    --jp-ui-font-color1: white;\n",
              "                    --jp-layout-color2: #454545;\n",
              "                    background-color: #383838;\n",
              "                }\n",
              "\n",
              "                .geemap-dark .jupyter-button {\n",
              "                    --jp-layout-color3: #383838;\n",
              "                }\n",
              "\n",
              "                .geemap-colab {\n",
              "                    background-color: var(--colab-primary-surface-color, white);\n",
              "                }\n",
              "\n",
              "                .geemap-colab .jupyter-button {\n",
              "                    --jp-layout-color3: var(--colab-primary-surface-color, white);\n",
              "                }\n",
              "            </style>\n",
              "            "
            ]
          },
          "metadata": {}
        }
      ]
    },
    {
      "cell_type": "markdown",
      "source": [
        "### Ice Classification Methods"
      ],
      "metadata": {
        "id": "epNkLkuZSD7P"
      }
    },
    {
      "cell_type": "code",
      "source": [
        "def ice_classify(image):\n",
        "    clear_mask = image.select('clear_mask')\n",
        "    ice = image.select('B4').gte(950).rename('ice')  # greater than or equal to... threshold here\n",
        "    ice = ice.updateMask(clear_mask)  # Apply clear mask to ice classification\n",
        "    all = image.select('B4').gte(1).rename('all')\n",
        "    return image.addBands([ice, all])\n"
      ],
      "metadata": {
        "id": "7zMoY5KSSDX3",
        "colab": {
          "base_uri": "https://localhost:8080/",
          "height": 17
        },
        "outputId": "aa62819b-a98c-46b8-c5d1-a3746c8687b4"
      },
      "execution_count": 37,
      "outputs": [
        {
          "output_type": "display_data",
          "data": {
            "text/plain": [
              "<IPython.core.display.HTML object>"
            ],
            "text/html": [
              "\n",
              "            <style>\n",
              "                .geemap-dark {\n",
              "                    --jp-widgets-color: white;\n",
              "                    --jp-widgets-label-color: white;\n",
              "                    --jp-ui-font-color1: white;\n",
              "                    --jp-layout-color2: #454545;\n",
              "                    background-color: #383838;\n",
              "                }\n",
              "\n",
              "                .geemap-dark .jupyter-button {\n",
              "                    --jp-layout-color3: #383838;\n",
              "                }\n",
              "\n",
              "                .geemap-colab {\n",
              "                    background-color: var(--colab-primary-surface-color, white);\n",
              "                }\n",
              "\n",
              "                .geemap-colab .jupyter-button {\n",
              "                    --jp-layout-color3: var(--colab-primary-surface-color, white);\n",
              "                }\n",
              "            </style>\n",
              "            "
            ]
          },
          "metadata": {}
        }
      ]
    },
    {
      "cell_type": "markdown",
      "source": [
        "### Property Extraction + Export Methods"
      ],
      "metadata": {
        "id": "THvEYwtb95zR"
      }
    },
    {
      "cell_type": "code",
      "execution_count": 38,
      "metadata": {
        "id": "A6D112FJLqXV",
        "colab": {
          "base_uri": "https://localhost:8080/",
          "height": 17
        },
        "outputId": "5c63020f-8ee5-4bbb-dc0e-41c0b0294935"
      },
      "outputs": [
        {
          "output_type": "display_data",
          "data": {
            "text/plain": [
              "<IPython.core.display.HTML object>"
            ],
            "text/html": [
              "\n",
              "            <style>\n",
              "                .geemap-dark {\n",
              "                    --jp-widgets-color: white;\n",
              "                    --jp-widgets-label-color: white;\n",
              "                    --jp-ui-font-color1: white;\n",
              "                    --jp-layout-color2: #454545;\n",
              "                    background-color: #383838;\n",
              "                }\n",
              "\n",
              "                .geemap-dark .jupyter-button {\n",
              "                    --jp-layout-color3: #383838;\n",
              "                }\n",
              "\n",
              "                .geemap-colab {\n",
              "                    background-color: var(--colab-primary-surface-color, white);\n",
              "                }\n",
              "\n",
              "                .geemap-colab .jupyter-button {\n",
              "                    --jp-layout-color3: var(--colab-primary-surface-color, white);\n",
              "                }\n",
              "            </style>\n",
              "            "
            ]
          },
          "metadata": {}
        }
      ],
      "source": [
        "def getClearArea(lake):\n",
        "  clearArea = clearAreaIm.select('area').reduceRegion(\n",
        "      reducer=ee.Reducer.sum(),\n",
        "      geometry = lake.geometry(),\n",
        "      scale = 10,\n",
        "      maxPixels=1e9\n",
        "  ).get('area')\n",
        "  return clearArea\n",
        "\n",
        "def getCloudArea(lake):\n",
        "  cloudArea = cloudAreaIm.select('area').reduceRegion(\n",
        "      reducer=ee.Reducer.sum(),\n",
        "      geometry = lake.geometry(),\n",
        "      scale = 10,\n",
        "      maxPixels=1e9\n",
        "  ).get('area')\n",
        "  return cloudArea\n",
        "\n",
        "def troid(lake):\n",
        "  center = ee.Array(lake.centroid().geometry().coordinates())\n",
        "  return center\n",
        "\n",
        "def getLake_ID(lake):\n",
        "  '''get the Lake_ID field from shapefile'''\n",
        "  Lake_ID = ee.Number(lake.get('Lake_ID'))\n",
        "  return Lake_ID\n",
        "\n",
        "def getTotalArea(lake):\n",
        "  totalArea = ee.Number(lake.get('area'))\n",
        "  return totalArea\n",
        "\n",
        "def getIceArea(lake):\n",
        "  iceArea = iceAreaIm.select('area').reduceRegion(\n",
        "      reducer=ee.Reducer.sum(),\n",
        "      geometry = lake.geometry(),\n",
        "      scale = 10,\n",
        "      maxPixels=1e9\n",
        "  ).get('area')\n",
        "  return iceArea\n",
        "\n",
        "def lakePropsIce(lake):\n",
        "  iceArea = getIceArea(lake)\n",
        "  Lake_ID = getLake_ID(lake)\n",
        "  clearArea = getClearArea(lake)\n",
        "  totalArea = getTotalArea(lake)\n",
        "  cloudArea = getCloudArea(lake)\n",
        "  centroid = troid(lake)\n",
        "  return ee.Feature(None, {'Lake_ID': Lake_ID, 'iceArea': iceArea, 'clearArea': clearArea, 'totalArea': totalArea, 'cloudArea': cloudArea, 'centroid': centroid})\n",
        "\n",
        "########################################################################\n",
        "\n",
        "## ***EXPORT METHODS***\n",
        "def export_lakes(collection, description, fileNamePrefix, fileFormat, folder, selectors):\n",
        "  '''Export a feature collection of lake properties to google drive for a given day.'''\n",
        "  task = ee.batch.Export.table.toDrive(**{\n",
        "    'collection': collection,\n",
        "    'description': description,\n",
        "    'fileNamePrefix': fileNamePrefix,\n",
        "    'fileFormat': fileFormat,\n",
        "    'folder': folder,\n",
        "    'selectors': selectors\n",
        "  })\n",
        "  task.start()"
      ]
    },
    {
      "cell_type": "markdown",
      "metadata": {
        "id": "iodnIKGsLvl-"
      },
      "source": [
        "# Main"
      ]
    },
    {
      "cell_type": "code",
      "execution_count": 39,
      "metadata": {
        "id": "heuw1Juc2btY",
        "colab": {
          "base_uri": "https://localhost:8080/",
          "height": 694
        },
        "outputId": "01970770-dd18-49e2-87a7-972caf47eaf3"
      },
      "outputs": [
        {
          "output_type": "display_data",
          "data": {
            "text/plain": [
              "<IPython.core.display.HTML object>"
            ],
            "text/html": [
              "\n",
              "            <style>\n",
              "                .geemap-dark {\n",
              "                    --jp-widgets-color: white;\n",
              "                    --jp-widgets-label-color: white;\n",
              "                    --jp-ui-font-color1: white;\n",
              "                    --jp-layout-color2: #454545;\n",
              "                    background-color: #383838;\n",
              "                }\n",
              "\n",
              "                .geemap-dark .jupyter-button {\n",
              "                    --jp-layout-color3: #383838;\n",
              "                }\n",
              "\n",
              "                .geemap-colab {\n",
              "                    background-color: var(--colab-primary-surface-color, white);\n",
              "                }\n",
              "\n",
              "                .geemap-colab .jupyter-button {\n",
              "                    --jp-layout-color3: var(--colab-primary-surface-color, white);\n",
              "                }\n",
              "            </style>\n",
              "            "
            ]
          },
          "metadata": {}
        },
        {
          "output_type": "execute_result",
          "data": {
            "text/plain": [
              "['2020-04-05',\n",
              " '2020-04-07',\n",
              " '2020-04-10',\n",
              " '2020-04-15',\n",
              " '2020-04-20',\n",
              " '2020-04-22',\n",
              " '2020-04-24',\n",
              " '2020-04-25',\n",
              " '2020-04-27',\n",
              " '2020-04-29',\n",
              " '2020-04-30',\n",
              " '2020-05-02',\n",
              " '2020-05-04',\n",
              " '2020-05-05',\n",
              " '2020-05-07',\n",
              " '2020-05-09',\n",
              " '2020-05-10',\n",
              " '2020-05-14',\n",
              " '2020-05-15',\n",
              " '2020-05-17',\n",
              " '2020-05-19',\n",
              " '2020-05-22',\n",
              " '2020-05-24',\n",
              " '2020-05-25',\n",
              " '2020-05-27',\n",
              " '2020-05-29',\n",
              " '2020-05-30',\n",
              " '2020-06-01',\n",
              " '2020-06-03',\n",
              " '2020-06-08',\n",
              " '2020-06-09',\n",
              " '2020-06-13',\n",
              " '2020-06-14',\n",
              " '2020-06-16',\n",
              " '2020-06-18',\n",
              " '2020-06-19',\n",
              " '2020-06-21',\n",
              " '2020-06-26',\n",
              " '2020-06-29']"
            ]
          },
          "metadata": {},
          "execution_count": 39
        }
      ],
      "source": [
        "from enum import unique\n",
        "##############################################################################\n",
        "## *** IMAGE PROCESSING ***\n",
        "images = ee.ImageCollection('COPERNICUS/S2_HARMONIZED').filterBounds(roi).filterDate(start,finish).filter(ee.Filter.calendarRange(startDoy, endDoy, 'day_of_year')).filter(ee.Filter.lt('CLOUDY_PIXEL_PERCENTAGE',80)) # Get Images\n",
        "images_all = mosaicBy(images) # Mosaic images\n",
        "images_all = images_all.map(maskS2clouds) # Create cloud/clear masks\n",
        "images_all = images_all.map(createCloudMaskForIce) # @ eric - I added this\n",
        "images_all = images_all.map(clip_image) # Clip to roi\n",
        "images_all.map(applyMask) # mask other bands for clouds\n",
        "area = roi.area().getInfo() # Calculate total area\n",
        "\n",
        "# Filter by percentile cover\n",
        "images_all = images_all.map(getCover) # Add percent cover as an image property\n",
        "images_all = images_all.filterMetadata('percCover','greater_than',10) # remove images covering less than 10% of the ROI)\n",
        "lakeimages_ice = images_all.map(clip2lakes_ice) # Clip images to lake mask\n",
        "\n",
        "#see how many images we've got\n",
        "dates = lakeimages_ice.aggregate_array('system:date').getInfo()\n",
        "dates"
      ]
    },
    {
      "cell_type": "code",
      "execution_count": 40,
      "metadata": {
        "id": "98zfNETwTzLg",
        "colab": {
          "base_uri": "https://localhost:8080/",
          "height": 17
        },
        "outputId": "e2b9fb4c-e42e-4572-e881-57744e283daa"
      },
      "outputs": [
        {
          "output_type": "display_data",
          "data": {
            "text/plain": [
              "<IPython.core.display.HTML object>"
            ],
            "text/html": [
              "\n",
              "            <style>\n",
              "                .geemap-dark {\n",
              "                    --jp-widgets-color: white;\n",
              "                    --jp-widgets-label-color: white;\n",
              "                    --jp-ui-font-color1: white;\n",
              "                    --jp-layout-color2: #454545;\n",
              "                    background-color: #383838;\n",
              "                }\n",
              "\n",
              "                .geemap-dark .jupyter-button {\n",
              "                    --jp-layout-color3: #383838;\n",
              "                }\n",
              "\n",
              "                .geemap-colab {\n",
              "                    background-color: var(--colab-primary-surface-color, white);\n",
              "                }\n",
              "\n",
              "                .geemap-colab .jupyter-button {\n",
              "                    --jp-layout-color3: var(--colab-primary-surface-color, white);\n",
              "                }\n",
              "            </style>\n",
              "            "
            ]
          },
          "metadata": {}
        }
      ],
      "source": [
        "###############################################################################\n",
        "## ***ICE CLASSIFICATION***\n",
        "lakeimages_ice = lakeimages_ice.map(ice_classify)\n",
        "\n",
        "###############################################################################\n",
        "## ***ITERATE THROUGH DAYS AND EXPORT***\n",
        "for i, date in enumerate(dates):\n",
        "  # Get lake properties\n",
        "  eedate = ee.Date(date) #earthengine date format\n",
        "\n",
        "  #ice\n",
        "  lakeIm2 = lakeimages_ice.filterDate(eedate).first() #get date\n",
        "  areaIm2 = lakeIm2.pixelArea() # get a pixel area image\n",
        "  lakeIm2 = lakeIm2.addBands([areaIm2]) # add pixel area as band in image\n",
        "  iceAreaIm = areaIm2.updateMask(lakeIm2.select('ice')) #mask area image based on ice\n",
        "  cloudAreaIm = areaIm2.updateMask(lakeIm2.select('cloud_mask_ed')) # mask area image based on clouds\n",
        "  clearAreaIm = areaIm2.updateMask(lakeIm2.select('clear_mask'))\n",
        "\n",
        "  #apply\n",
        "  ice = lakes_forIce.map(lakePropsIce)\n",
        "\n",
        "  # Export\n",
        "  exportDate = date.replace('-', '_')\n",
        "  descriptionI = labelI +'_'+ exportDate\n",
        "  fileformat = 'CSV'\n",
        "  export_lakes(ice, descriptionI, descriptionI, fileformat, exportFolder, exportSelectorsIce)"
      ]
    },
    {
      "cell_type": "code",
      "source": [
        "icetest = ice.first()\n",
        "icetest.getInfo()"
      ],
      "metadata": {
        "colab": {
          "base_uri": "https://localhost:8080/",
          "height": 173
        },
        "id": "k6gdKhMV4Rdj",
        "outputId": "bbcdfad6-0483-4de4-8c49-535819261436"
      },
      "execution_count": 41,
      "outputs": [
        {
          "output_type": "display_data",
          "data": {
            "text/plain": [
              "<IPython.core.display.HTML object>"
            ],
            "text/html": [
              "\n",
              "            <style>\n",
              "                .geemap-dark {\n",
              "                    --jp-widgets-color: white;\n",
              "                    --jp-widgets-label-color: white;\n",
              "                    --jp-ui-font-color1: white;\n",
              "                    --jp-layout-color2: #454545;\n",
              "                    background-color: #383838;\n",
              "                }\n",
              "\n",
              "                .geemap-dark .jupyter-button {\n",
              "                    --jp-layout-color3: #383838;\n",
              "                }\n",
              "\n",
              "                .geemap-colab {\n",
              "                    background-color: var(--colab-primary-surface-color, white);\n",
              "                }\n",
              "\n",
              "                .geemap-colab .jupyter-button {\n",
              "                    --jp-layout-color3: var(--colab-primary-surface-color, white);\n",
              "                }\n",
              "            </style>\n",
              "            "
            ]
          },
          "metadata": {}
        },
        {
          "output_type": "execute_result",
          "data": {
            "text/plain": [
              "{'type': 'Feature',\n",
              " 'geometry': None,\n",
              " 'id': '00000000000000003353',\n",
              " 'properties': {'Lake_ID': 0,\n",
              "  'centroid': [-164.10687221463732, 60.345317220464445],\n",
              "  'clearArea': 0,\n",
              "  'cloudArea': 0,\n",
              "  'iceArea': 0,\n",
              "  'totalArea': 25766.61993408203}}"
            ]
          },
          "metadata": {},
          "execution_count": 41
        }
      ]
    },
    {
      "cell_type": "code",
      "source": [
        "# print(lakeIm2.bandNames().getInfo())"
      ],
      "metadata": {
        "colab": {
          "base_uri": "https://localhost:8080/",
          "height": 17
        },
        "id": "PHidaLNeC0d9",
        "outputId": "d3acd054-0cca-4e8c-b3e9-854bd14264cb"
      },
      "execution_count": 42,
      "outputs": [
        {
          "output_type": "display_data",
          "data": {
            "text/plain": [
              "<IPython.core.display.HTML object>"
            ],
            "text/html": [
              "\n",
              "            <style>\n",
              "                .geemap-dark {\n",
              "                    --jp-widgets-color: white;\n",
              "                    --jp-widgets-label-color: white;\n",
              "                    --jp-ui-font-color1: white;\n",
              "                    --jp-layout-color2: #454545;\n",
              "                    background-color: #383838;\n",
              "                }\n",
              "\n",
              "                .geemap-dark .jupyter-button {\n",
              "                    --jp-layout-color3: #383838;\n",
              "                }\n",
              "\n",
              "                .geemap-colab {\n",
              "                    background-color: var(--colab-primary-surface-color, white);\n",
              "                }\n",
              "\n",
              "                .geemap-colab .jupyter-button {\n",
              "                    --jp-layout-color3: var(--colab-primary-surface-color, white);\n",
              "                }\n",
              "            </style>\n",
              "            "
            ]
          },
          "metadata": {}
        }
      ]
    },
    {
      "cell_type": "markdown",
      "source": [
        "# Temperature Data"
      ],
      "metadata": {
        "id": "VkN3r5D73yuG"
      }
    },
    {
      "cell_type": "code",
      "source": [
        "# # Acquire daily mean 2m air temperature\n",
        "# era5_2mt = (\n",
        "#     ee.ImageCollection('ECMWF/ERA5/DAILY')\n",
        "#     .select('mean_2m_air_temperature')\n",
        "#     .filter(ee.Filter.date(start, finish))\n",
        "# )\n",
        "\n",
        "# #spatial join with lake dataset\n",
        "# def extract_and_create_feature(date_image):\n",
        "#     date = date_image.get('system:time_start')\n",
        "\n",
        "#     def extract_temp_for_lake(lake_feature):\n",
        "#         # Extract mean temperature in Kelvin\n",
        "#         mean_temp_kelvin = ee.Number(date_image.reduceRegion(\n",
        "#             reducer=ee.Reducer.mean(),\n",
        "#             geometry=lake_feature.geometry(),\n",
        "#             scale=pixScale\n",
        "#         ).get('mean_2m_air_temperature'))\n",
        "\n",
        "#         # Convert temperature from Kelvin to Celsius\n",
        "#         mean_temp_celsius = mean_temp_kelvin.subtract(273.15)\n",
        "\n",
        "#         Lake_ID = lake_feature.get('Lake_ID')\n",
        "\n",
        "#         # Create a new feature with Lake_ID, date, and mean temperature in Celsius\n",
        "#         return ee.Feature(None, {\n",
        "#             'Lake_ID': Lake_ID,\n",
        "#             'date': ee.Date(date).format('YYYY-MM-dd'),\n",
        "#             'mean_temperature_kelvin': mean_temp_kelvin,  # Optional: keep the Kelvin value\n",
        "#             'mean_temperature_celsius': mean_temp_celsius\n",
        "#         })\n",
        "\n",
        "#     # Map over each lake to extract temperature and create a new feature\n",
        "#     new_features = lakes_forIce.map(extract_temp_for_lake)\n",
        "#     return new_features\n",
        "\n",
        "\n",
        "# ### apply function to temp dataset ###\n",
        "# # Map function\n",
        "# temp_features_by_date = era5_2mt.map(extract_and_create_feature)\n",
        "# # Flatten into a single FeatureCollection\n",
        "# flattened_features = temp_features_by_date.flatten()\n"
      ],
      "metadata": {
        "colab": {
          "base_uri": "https://localhost:8080/",
          "height": 17
        },
        "id": "5aoe77o-32J7",
        "outputId": "cbc10359-77c0-4ae4-f987-baf59a3ffc5a"
      },
      "execution_count": 43,
      "outputs": [
        {
          "output_type": "display_data",
          "data": {
            "text/plain": [
              "<IPython.core.display.HTML object>"
            ],
            "text/html": [
              "\n",
              "            <style>\n",
              "                .geemap-dark {\n",
              "                    --jp-widgets-color: white;\n",
              "                    --jp-widgets-label-color: white;\n",
              "                    --jp-ui-font-color1: white;\n",
              "                    --jp-layout-color2: #454545;\n",
              "                    background-color: #383838;\n",
              "                }\n",
              "\n",
              "                .geemap-dark .jupyter-button {\n",
              "                    --jp-layout-color3: #383838;\n",
              "                }\n",
              "\n",
              "                .geemap-colab {\n",
              "                    background-color: var(--colab-primary-surface-color, white);\n",
              "                }\n",
              "\n",
              "                .geemap-colab .jupyter-button {\n",
              "                    --jp-layout-color3: var(--colab-primary-surface-color, white);\n",
              "                }\n",
              "            </style>\n",
              "            "
            ]
          },
          "metadata": {}
        }
      ]
    },
    {
      "cell_type": "code",
      "source": [
        "# def export_temperature_data(collection, description, fileNamePrefix, folder):\n",
        "#     task = ee.batch.Export.table.toDrive(**{\n",
        "#         'collection': collection,\n",
        "#         'description': description,\n",
        "#         'fileNamePrefix': fileNamePrefix,\n",
        "#         'folder': folder,\n",
        "#         'fileFormat': 'CSV'\n",
        "#     })\n",
        "#     task.start()\n",
        "\n",
        "# # Call the export function\n",
        "# export_description = 'Lake_Temperature_Data'\n",
        "# start_year = start.split('-')[0]\n",
        "# export_fileNamePrefix = 'Lake_Temperature_' + start_year\n",
        "# export_folder_T = 'Kusk_TempData'\n",
        "\n",
        "# # export_temperature_data(flattened_features, export_description, export_fileNamePrefix, export_folder_T)\n"
      ],
      "metadata": {
        "colab": {
          "base_uri": "https://localhost:8080/",
          "height": 17
        },
        "id": "TcbciljOUer7",
        "outputId": "4ad1c683-5b1a-4e72-93d6-4264856450c8"
      },
      "execution_count": 44,
      "outputs": [
        {
          "output_type": "display_data",
          "data": {
            "text/plain": [
              "<IPython.core.display.HTML object>"
            ],
            "text/html": [
              "\n",
              "            <style>\n",
              "                .geemap-dark {\n",
              "                    --jp-widgets-color: white;\n",
              "                    --jp-widgets-label-color: white;\n",
              "                    --jp-ui-font-color1: white;\n",
              "                    --jp-layout-color2: #454545;\n",
              "                    background-color: #383838;\n",
              "                }\n",
              "\n",
              "                .geemap-dark .jupyter-button {\n",
              "                    --jp-layout-color3: #383838;\n",
              "                }\n",
              "\n",
              "                .geemap-colab {\n",
              "                    background-color: var(--colab-primary-surface-color, white);\n",
              "                }\n",
              "\n",
              "                .geemap-colab .jupyter-button {\n",
              "                    --jp-layout-color3: var(--colab-primary-surface-color, white);\n",
              "                }\n",
              "            </style>\n",
              "            "
            ]
          },
          "metadata": {}
        }
      ]
    },
    {
      "cell_type": "markdown",
      "source": [
        "#### Test"
      ],
      "metadata": {
        "id": "m-nQAo6TWKRn"
      }
    },
    {
      "cell_type": "code",
      "source": [
        "# # Take a sample of 10 features from the flattened collection\n",
        "# sample_features = flattened_features.limit(10)\n",
        "\n",
        "# # Print the sample to the console\n",
        "# print('Sample Features:', sample_features.getInfo())\n"
      ],
      "metadata": {
        "colab": {
          "base_uri": "https://localhost:8080/",
          "height": 17
        },
        "id": "6pigKRM8SwJb",
        "outputId": "f4d31b77-6067-42a3-aabd-4c28ca112913"
      },
      "execution_count": 45,
      "outputs": [
        {
          "output_type": "display_data",
          "data": {
            "text/plain": [
              "<IPython.core.display.HTML object>"
            ],
            "text/html": [
              "\n",
              "            <style>\n",
              "                .geemap-dark {\n",
              "                    --jp-widgets-color: white;\n",
              "                    --jp-widgets-label-color: white;\n",
              "                    --jp-ui-font-color1: white;\n",
              "                    --jp-layout-color2: #454545;\n",
              "                    background-color: #383838;\n",
              "                }\n",
              "\n",
              "                .geemap-dark .jupyter-button {\n",
              "                    --jp-layout-color3: #383838;\n",
              "                }\n",
              "\n",
              "                .geemap-colab {\n",
              "                    background-color: var(--colab-primary-surface-color, white);\n",
              "                }\n",
              "\n",
              "                .geemap-colab .jupyter-button {\n",
              "                    --jp-layout-color3: var(--colab-primary-surface-color, white);\n",
              "                }\n",
              "            </style>\n",
              "            "
            ]
          },
          "metadata": {}
        }
      ]
    },
    {
      "cell_type": "markdown",
      "source": [
        "# Visualization\n"
      ],
      "metadata": {
        "id": "kdDqGFnRboxq"
      }
    },
    {
      "cell_type": "markdown",
      "source": [
        "## Map\n",
        "##### Prelim. map steps"
      ],
      "metadata": {
        "id": "zOBfUZszvWma"
      }
    },
    {
      "cell_type": "code",
      "source": [
        "# lakeimages_ice = lakeimages_ice.map(ice_classify)\n",
        "# iceimg = ee.Image(lakeimages_ice.first()) #isolate single image\n",
        "# iceimg.getInfo() #forcing GEE in order to visualize\n"
      ],
      "metadata": {
        "id": "QVIcK6rz0KGu",
        "colab": {
          "base_uri": "https://localhost:8080/",
          "height": 0
        },
        "outputId": "be3f0c70-f19e-4eaa-b822-7b2990d62885"
      },
      "execution_count": 46,
      "outputs": [
        {
          "output_type": "display_data",
          "data": {
            "text/plain": [
              "<IPython.core.display.HTML object>"
            ],
            "text/html": [
              "\n",
              "            <style>\n",
              "                .geemap-dark {\n",
              "                    --jp-widgets-color: white;\n",
              "                    --jp-widgets-label-color: white;\n",
              "                    --jp-ui-font-color1: white;\n",
              "                    --jp-layout-color2: #454545;\n",
              "                    background-color: #383838;\n",
              "                }\n",
              "\n",
              "                .geemap-dark .jupyter-button {\n",
              "                    --jp-layout-color3: #383838;\n",
              "                }\n",
              "\n",
              "                .geemap-colab {\n",
              "                    background-color: var(--colab-primary-surface-color, white);\n",
              "                }\n",
              "\n",
              "                .geemap-colab .jupyter-button {\n",
              "                    --jp-layout-color3: var(--colab-primary-surface-color, white);\n",
              "                }\n",
              "            </style>\n",
              "            "
            ]
          },
          "metadata": {}
        }
      ]
    },
    {
      "cell_type": "markdown",
      "source": [
        "### Mapping"
      ],
      "metadata": {
        "id": "CJsJPTD62ON8"
      }
    },
    {
      "cell_type": "code",
      "source": [
        "# Map = geemap.Map()\n",
        "# Map.centerObject(roi, 10)\n",
        "# Map.addLayer(iceimg.select('clear_mask'), {'palette': ['grey', 'white']}, 'Clear Mask')\n",
        "# #Map.addLayer(iceimg.select('cloud_mask_ed'), {'palette': ['grey', 'white']}, 'Clouds')\n",
        "# Map.addLayer(iceimg.select('ice'), {'palette': ['white', 'orange']}, 'Ice Classification')\n",
        "# Map.addLayer(roi)\n",
        "# Map.addLayerControl()\n",
        "# Map"
      ],
      "metadata": {
        "colab": {
          "base_uri": "https://localhost:8080/",
          "height": 0
        },
        "id": "tylk4imb3zjW",
        "outputId": "62f5624d-9ef9-4df5-b134-5f12c113291b"
      },
      "execution_count": 47,
      "outputs": [
        {
          "output_type": "display_data",
          "data": {
            "text/plain": [
              "<IPython.core.display.HTML object>"
            ],
            "text/html": [
              "\n",
              "            <style>\n",
              "                .geemap-dark {\n",
              "                    --jp-widgets-color: white;\n",
              "                    --jp-widgets-label-color: white;\n",
              "                    --jp-ui-font-color1: white;\n",
              "                    --jp-layout-color2: #454545;\n",
              "                    background-color: #383838;\n",
              "                }\n",
              "\n",
              "                .geemap-dark .jupyter-button {\n",
              "                    --jp-layout-color3: #383838;\n",
              "                }\n",
              "\n",
              "                .geemap-colab {\n",
              "                    background-color: var(--colab-primary-surface-color, white);\n",
              "                }\n",
              "\n",
              "                .geemap-colab .jupyter-button {\n",
              "                    --jp-layout-color3: var(--colab-primary-surface-color, white);\n",
              "                }\n",
              "            </style>\n",
              "            "
            ]
          },
          "metadata": {}
        }
      ]
    },
    {
      "cell_type": "code",
      "source": [
        "# #TEST\n",
        "# sample_collection = ee.ImageCollection('COPERNICUS/S2').filterBounds(roi).filterDate(start,finish)\n",
        "\n",
        "# classified_collection = sample_collection.map(ice_classify)\n",
        "# classified_collection = classified_collection.map(maskS2clouds) #'''not working so removed'''\n",
        "# classified_image = ee.Image(classified_collection.first())\n",
        "# classified_image = classified_image.clip(lakes_forIce)\n",
        "\n",
        "# #VISUALIZE\n",
        "# Map = geemap.Map()\n",
        "# Map.centerObject(roi, 10)\n",
        "# Map.addLayer(classified_image.select('ice'), {'palette': ['blue', 'white']}, 'Ice Classification')\n",
        "# Map.addLayer(classified_image.select('cloud_mask'), {'palette': ['red'], 'min': 0, 'max': 1}, 'Cloud Mask')  # Add cloud mask as a layer\n",
        "# Map.addLayer(classified_image.select('clear_mask'), {'palette': ['green'], 'min': 0, 'max': 1}, 'Clear Mask')  # Add clear mask as a layer\n",
        "# #Map.addLayer(classified_image.select('all'), {'palette': ['gray']}, 'All Bands')\n",
        "# #Map.addLayer(roi, {'color': 'red'}, 'ROI')\n",
        "# Map.addLayer(lakes_forIce,{'color': 'orange'}, 'Lake Mask (unbuffered)')\n",
        "# Map.addLayerControl()\n",
        "# Map"
      ],
      "metadata": {
        "id": "9d53Eof8zSX6",
        "colab": {
          "base_uri": "https://localhost:8080/",
          "height": 0
        },
        "outputId": "bc8897d1-cb0e-44db-c484-e82600315040"
      },
      "execution_count": 48,
      "outputs": [
        {
          "output_type": "display_data",
          "data": {
            "text/plain": [
              "<IPython.core.display.HTML object>"
            ],
            "text/html": [
              "\n",
              "            <style>\n",
              "                .geemap-dark {\n",
              "                    --jp-widgets-color: white;\n",
              "                    --jp-widgets-label-color: white;\n",
              "                    --jp-ui-font-color1: white;\n",
              "                    --jp-layout-color2: #454545;\n",
              "                    background-color: #383838;\n",
              "                }\n",
              "\n",
              "                .geemap-dark .jupyter-button {\n",
              "                    --jp-layout-color3: #383838;\n",
              "                }\n",
              "\n",
              "                .geemap-colab {\n",
              "                    background-color: var(--colab-primary-surface-color, white);\n",
              "                }\n",
              "\n",
              "                .geemap-colab .jupyter-button {\n",
              "                    --jp-layout-color3: var(--colab-primary-surface-color, white);\n",
              "                }\n",
              "            </style>\n",
              "            "
            ]
          },
          "metadata": {}
        }
      ]
    },
    {
      "cell_type": "markdown",
      "source": [
        "## Classified Image Export (single, collection)"
      ],
      "metadata": {
        "id": "qOo7a2Ow2pmA"
      }
    },
    {
      "cell_type": "markdown",
      "source": [
        "### Single Image"
      ],
      "metadata": {
        "id": "feXtg6sC7kzc"
      }
    },
    {
      "cell_type": "code",
      "source": [
        "# #Original visualization\n",
        "# single = lakeimages_ice.first().select('ice', 'clear_mask')\n",
        "\n",
        "# # Cast all bands to UInt 8\n",
        "# single = single.toUint8() #exporting image w/ binary classifications ranging from 0-1, so UInt8\n",
        "\n",
        "# task = ee.batch.Export.image.toDrive(**{\n",
        "#     'image': single,\n",
        "#     'description': 'test_img',\n",
        "#     'folder':'Visualization',\n",
        "#     'fileFormat': 'GeoTIFF',\n",
        "#     'scale': 10,\n",
        "#     'region': roi,\n",
        "#     'maxPixels': 1e12\n",
        "# })\n",
        "# task.start()\n",
        "# import time\n",
        "# while task.active():\n",
        "#   print('Polling for task (id: {}).'.format(task.id))\n",
        "#   time.sleep(5)"
      ],
      "metadata": {
        "id": "8KpqOa167pgC",
        "colab": {
          "base_uri": "https://localhost:8080/",
          "height": 0
        },
        "outputId": "3091293f-a6b2-4328-cfda-6ec217883c05"
      },
      "execution_count": 49,
      "outputs": [
        {
          "output_type": "display_data",
          "data": {
            "text/plain": [
              "<IPython.core.display.HTML object>"
            ],
            "text/html": [
              "\n",
              "            <style>\n",
              "                .geemap-dark {\n",
              "                    --jp-widgets-color: white;\n",
              "                    --jp-widgets-label-color: white;\n",
              "                    --jp-ui-font-color1: white;\n",
              "                    --jp-layout-color2: #454545;\n",
              "                    background-color: #383838;\n",
              "                }\n",
              "\n",
              "                .geemap-dark .jupyter-button {\n",
              "                    --jp-layout-color3: #383838;\n",
              "                }\n",
              "\n",
              "                .geemap-colab {\n",
              "                    background-color: var(--colab-primary-surface-color, white);\n",
              "                }\n",
              "\n",
              "                .geemap-colab .jupyter-button {\n",
              "                    --jp-layout-color3: var(--colab-primary-surface-color, white);\n",
              "                }\n",
              "            </style>\n",
              "            "
            ]
          },
          "metadata": {}
        }
      ]
    },
    {
      "cell_type": "markdown",
      "source": [
        "### Image Collection"
      ],
      "metadata": {
        "id": "GQlLy32SZAgJ"
      }
    },
    {
      "cell_type": "code",
      "source": [
        "# import folium\n",
        "# import time\n",
        "\n",
        "# # Define what bands\n",
        "# bands_to_select = ['water_75', 'cloud_mask', 'clear_mask']\n",
        "\n",
        "# # Iterate through the Image Collection and export each image\n",
        "# image_list = lakeimages.toList(lakeimages.size())\n",
        "# for i in range(image_list.length().getInfo()):\n",
        "#     # Get the current image in the collection\n",
        "#     current_image = ee.Image(image_list.get(i))\n",
        "\n",
        "#     # Select the desired bands and cast to UInt8\n",
        "#     selected_image = current_image.select(bands_to_select).toUint8()\n",
        "\n",
        "#     # Get the date from the image's metadata\n",
        "#     date = ee.Date(current_image.get('system:time_start'))\n",
        "#     date_str = date.format('YYYY-MM-dd').getInfo()  # Format the date as desired\n",
        "\n",
        "#     # Use the date as the description\n",
        "#     description = 'image_' + date_str\n",
        "\n",
        "#     # Define the export task for the current image\n",
        "#     task = ee.batch.Export.image.toDrive(**{\n",
        "#         'image': selected_image,\n",
        "#         'description': description,\n",
        "#         'folder': 'Visualization', #have this foler be mapped within YKD_Water folder\n",
        "#         'fileFormat': 'GeoTIFF',\n",
        "#         'scale': 10,\n",
        "#         'region': roi,\n",
        "#         'maxPixels': 1e12\n",
        "#     })\n",
        "\n",
        "#     # Start the export task for the current image\n",
        "#     task.start()\n",
        "\n",
        "#     # Monitor the task's progress\n",
        "#     print('Exporting task (id: {}) - Image {}'.format(task.id, i))\n",
        "\n",
        "#     # Wait for the task to complete before moving on to the next image\n",
        "#     while task.active():\n",
        "#         print('Polling for task (id: {}).'.format(task.id))\n",
        "#         time.sleep(5)\n"
      ],
      "metadata": {
        "id": "-8a4eCeYyOkS",
        "colab": {
          "base_uri": "https://localhost:8080/",
          "height": 0
        },
        "outputId": "9d4bf087-4013-46d1-dfdb-8cdf5a27af1f"
      },
      "execution_count": 50,
      "outputs": [
        {
          "output_type": "display_data",
          "data": {
            "text/plain": [
              "<IPython.core.display.HTML object>"
            ],
            "text/html": [
              "\n",
              "            <style>\n",
              "                .geemap-dark {\n",
              "                    --jp-widgets-color: white;\n",
              "                    --jp-widgets-label-color: white;\n",
              "                    --jp-ui-font-color1: white;\n",
              "                    --jp-layout-color2: #454545;\n",
              "                    background-color: #383838;\n",
              "                }\n",
              "\n",
              "                .geemap-dark .jupyter-button {\n",
              "                    --jp-layout-color3: #383838;\n",
              "                }\n",
              "\n",
              "                .geemap-colab {\n",
              "                    background-color: var(--colab-primary-surface-color, white);\n",
              "                }\n",
              "\n",
              "                .geemap-colab .jupyter-button {\n",
              "                    --jp-layout-color3: var(--colab-primary-surface-color, white);\n",
              "                }\n",
              "            </style>\n",
              "            "
            ]
          },
          "metadata": {}
        }
      ]
    }
  ],
  "metadata": {
    "colab": {
      "provenance": [],
      "collapsed_sections": [
        "kdDqGFnRboxq"
      ],
      "include_colab_link": true
    },
    "kernelspec": {
      "display_name": "Python 3",
      "name": "python3"
    },
    "language_info": {
      "name": "python"
    }
  },
  "nbformat": 4,
  "nbformat_minor": 0
}