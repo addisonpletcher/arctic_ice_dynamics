{
  "cells": [
    {
      "cell_type": "markdown",
      "metadata": {
        "id": "view-in-github",
        "colab_type": "text"
      },
      "source": [
        "<a href=\"https://colab.research.google.com/github/addisonpletcher/arctic_ice_dynamics/blob/main/Ice_Adapted_LakeTimeSeriesv3.ipynb\" target=\"_parent\"><img src=\"https://colab.research.google.com/assets/colab-badge.svg\" alt=\"Open In Colab\"/></a>"
      ]
    },
    {
      "cell_type": "code",
      "execution_count": null,
      "metadata": {
        "id": "LGgPxn5kJfmq"
      },
      "outputs": [],
      "source": [
        "'''\n",
        "author: @ericslevenson\n",
        "adapted by: @addisonpletcher\n",
        "date: 10/15/2023\n",
        "description: GEE script to export near-daily records of lake area within a\n",
        "shapefile of buffered lakes\n",
        "\n",
        "Copy of Lake Script, adding in Ice classification\n",
        "'''"
      ]
    },
    {
      "cell_type": "markdown",
      "metadata": {
        "id": "Kt-UVUejLtzO"
      },
      "source": [
        "# Preliminary"
      ]
    },
    {
      "cell_type": "code",
      "execution_count": null,
      "metadata": {
        "id": "K1xZzHHaKB0M",
        "colab": {
          "base_uri": "https://localhost:8080/",
          "height": 193
        },
        "outputId": "046b6dfe-b7db-459f-9123-b08607382df9"
      },
      "outputs": [
        {
          "output_type": "stream",
          "name": "stdout",
          "text": [
            "To authorize access needed by Earth Engine, open the following URL in a web browser and follow the instructions. If the web browser does not start automatically, please manually browse the URL below.\n",
            "\n",
            "    https://code.earthengine.google.com/client-auth?scopes=https%3A//www.googleapis.com/auth/earthengine%20https%3A//www.googleapis.com/auth/devstorage.full_control&request_id=AxSffJ5l4rDAaT6uYIffnbPqUkKAjqbf1aX1fagjUUg&tc=eJDIhAfUnJ2vnTNUPETOOon5eAaEFkf8ahsrHvE9AMQ&cc=FO3lNfhlWNHf-1CK9-zm8MEJZcizd7t4N9xFBsUsx88\n",
            "\n",
            "The authorization workflow will generate a code, which you should paste in the box below.\n",
            "Enter verification code: 4/1AfJohXnwZy2OU0GBIswICynmmXghe9Lw1h82bIXMgzVQRO1b_EW40fHhCN0\n",
            "\n",
            "Successfully saved authorization token.\n",
            "Mounted at /content/drive\n"
          ]
        }
      ],
      "source": [
        "# Earth Engine setup\n",
        "import ee # Trigger the authentication flow.\n",
        "ee.Authenticate()\n",
        "ee.Initialize() # Initialize the library.\n",
        "\n",
        "# Google Drive setup (if needed)\n",
        "from google.colab import drive\n",
        "drive.mount('/content/drive')\n",
        "\n",
        "#Libraries\n",
        "import folium\n",
        "import geemap"
      ]
    },
    {
      "cell_type": "markdown",
      "source": [
        "#### Inputs"
      ],
      "metadata": {
        "id": "4EgrGfl5D7uW"
      }
    },
    {
      "cell_type": "code",
      "execution_count": null,
      "metadata": {
        "id": "I3GpdMVWKFzj",
        "colab": {
          "base_uri": "https://localhost:8080/",
          "height": 17
        },
        "outputId": "e90e9193-eb3d-4424-8e89-8e178bafe0eb"
      },
      "outputs": [
        {
          "output_type": "display_data",
          "data": {
            "text/plain": [
              "<IPython.core.display.HTML object>"
            ],
            "text/html": [
              "\n",
              "            <style>\n",
              "                .geemap-dark {\n",
              "                    --jp-widgets-color: white;\n",
              "                    --jp-widgets-label-color: white;\n",
              "                    --jp-ui-font-color1: white;\n",
              "                    --jp-layout-color2: #454545;\n",
              "                    background-color: #383838;\n",
              "                }\n",
              "                    \n",
              "                .geemap-dark .jupyter-button {\n",
              "                    --jp-layout-color3: #383838;\n",
              "                }\n",
              "                \n",
              "                .geemap-colab {\n",
              "                    background-color: var(--colab-primary-surface-color, white);\n",
              "                }\n",
              "                    \n",
              "                .geemap-colab .jupyter-button {\n",
              "                    --jp-layout-color3: var(--colab-primary-surface-color, white);\n",
              "                }\n",
              "            </style>\n",
              "            "
            ]
          },
          "metadata": {}
        }
      ],
      "source": [
        "## Regularly Adjusted inputs ##\n",
        "# Time Period\n",
        "start = '2018-05-03'\n",
        "finish = '2018-05-07'\n",
        "# Tile of interest\n",
        "tile = 6    # since I'm not running via a tile scheme, can this be removed?\n",
        "# Lake Shapefile\n",
        "#TODO: get filtered+buffered asset added to GEE for 'lakes' variable\n",
        "lakes = ee.FeatureCollection('projects/ee-addisonpletcher/assets/test_lakeMask_buff_filt_EPSG') # to be used for water classification\n",
        "lakes_forIce = ee.FeatureCollection('projects/ee-addisonpletcher/assets/test_lakeMask_filt_EPSG') # to be used for ice classification\n",
        "\n",
        "## Periodically Adjusted Inputs ##\n",
        "# Area of Interest\n",
        "aoi = ee.FeatureCollection('projects/ee-addisonpletcher/assets/test_roi')\n",
        "\n",
        "## Rarely Adjusted inputs ##\n",
        "# Image scale\n",
        "pixScale = 10\n",
        "\n",
        "# ***EXPORTS***\n",
        "# Export Properties\n",
        "exportSelectorsIce = ['Lake_ID', 'iceArea', 'clearArea', 'centroid']\n",
        "exportSelectorsWater = ['Lake_ID', 'waterArea', 'clearArea', 'cloudArea', 'centroid']\n",
        "# Description\n",
        "labelW = str('water_fullszn')\n",
        "labelI = str('ice_fullszn')\n",
        "# Export Folder\n",
        "exportFolder = 'YKD_AGU'\n",
        "\n",
        "\n",
        "\n",
        "# ***EARTH ENGINE-IFY***\n",
        "eestart = ee.Date(start)\n",
        "eefinish = ee.Date(finish)\n",
        "startDoy = ee.Date(start).getRelative('day', 'year')\n",
        "endDoy = ee.Date(finish).getRelative('day', 'year')\n",
        "eeroi = aoi.first()\n",
        "roi = ee.Geometry.Polygon(eeroi.geometry().getInfo()['coordinates'][0])\n",
        "lakes = lakes.filterBounds(roi) # filter lakes to roi"
      ]
    },
    {
      "cell_type": "markdown",
      "metadata": {
        "id": "t7SvYUcsTcMN"
      },
      "source": [
        "# Functions\n",
        "#### -> Preprocessing, Water classification, Ice classification, Property Extraction + Export methods"
      ]
    },
    {
      "cell_type": "markdown",
      "source": [
        "### Image Pre-Processing Methods"
      ],
      "metadata": {
        "id": "IGb-25yA9n92"
      }
    },
    {
      "cell_type": "code",
      "source": [
        "# Mask clouds in Sentinel-2\n",
        "def maskS2clouds(image):\n",
        "  '''Takes an input and adds two bands: cloud mask and clear mask'''\n",
        "  qa = image.select('QA60')\n",
        "  cloudBitMask = 1 << 10\n",
        "  cirrusBitMask = 1 << 11\n",
        "  clear_mask = qa.bitwiseAnd(cloudBitMask).eq(0).And(qa.bitwiseAnd(cirrusBitMask).eq(0)).rename('clear_mask')\n",
        "  cloud_mask = qa.bitwiseAnd(cloudBitMask).eq(1).And(qa.bitwiseAnd(cirrusBitMask).eq(1)).rename('cloud_mask')\n",
        "  return image.addBands([cloud_mask,clear_mask])\n",
        "\n",
        "# Clip image\n",
        "def clip_image(image):\n",
        "  '''Clips to the roi defined at the beginning of the script'''\n",
        "  return image.clip(roi)\n",
        "\n",
        "def clip2lakes(image):\n",
        "  '''Clips an image based on the lake boundaries'''\n",
        "  return image.clip(lakes)\n",
        "\n",
        "def clip2lakes_ice(image):\n",
        "  '''Clips an image based on the lake boundaries'''\n",
        "  return image.clip(lakes_forIce)\n",
        "\n",
        "# Get percentile cover\n",
        "def getCover(image):\n",
        "  '''calculates percentage of the roi covered by the clear mask. NOTE: this function\n",
        "  calls the global totPixels variable that needs to be calculated in the main script.'''\n",
        "  actArea = ee.Number(image.updateMask(image.select('B2')).reduceRegion(\n",
        "      reducer = ee.Reducer.count(),\n",
        "      scale = 100,\n",
        "      maxPixels=1e12,\n",
        "      ).values().get(0)).multiply(10000)\n",
        "  # calculate the perc of cover OF CLEAR PIXELS\n",
        "  percCover = actArea.divide(area).multiply(100)\n",
        "  # number as output\n",
        "  return image.set('percCover', percCover,'actArea',actArea)\n",
        "\n",
        "# Mosaic images by date, orbit, - basically combines images together that were taken on the same day\n",
        "def mosaicBy(imcol):\n",
        "  '''Takes an image collection (imcol) and creates a mosaic for each day\n",
        "  Returns: An image collection of daily mosaics'''\n",
        "  #return the collection as a list of images (not an image collection)\n",
        "  imlist = imcol.toList(imcol.size())\n",
        "  # Get all the dates as list\n",
        "  def imdate(im):\n",
        "    date = ee.Image(im).date().format(\"YYYY-MM-dd\")\n",
        "    return date\n",
        "  all_dates = imlist.map(imdate)\n",
        "  # get all orbits as list\n",
        "  def orbitId(im):\n",
        "    orb = ee.Image(im).get('SENSING_ORBIT_NUMBER')\n",
        "    return orb\n",
        "  all_orbits = imlist.map(orbitId)\n",
        "  # get all spacecraft names as list\n",
        "  def spacecraft(im):\n",
        "    return ee.Image(im).get('SPACECRAFT_NAME')\n",
        "  all_spNames = imlist.map(spacecraft)\n",
        "  # this puts dates, orbits and names into a nested list\n",
        "  concat_all = all_dates.zip(all_orbits).zip(all_spNames);\n",
        "  # here we unnest the list with flatten, and then concatenate the list elements with \" \"\n",
        "  def concat(el):\n",
        "    return ee.List(el).flatten().join(\" \")\n",
        "  concat_all = concat_all.map(concat)\n",
        "  # here, just get distinct combintations of date, orbit and name\n",
        "  concat_unique = concat_all.distinct()\n",
        "  # mosaic\n",
        "  def mosaicIms(d):\n",
        "    d1 = ee.String(d).split(\" \")\n",
        "    date1 = ee.Date(d1.get(0))\n",
        "    orbit = ee.Number.parse(d1.get(1)).toInt()\n",
        "    spName = ee.String(d1.get(2))\n",
        "    im = imcol.filterDate(date1, date1.advance(1, \"day\")).filterMetadata('SPACECRAFT_NAME', 'equals', spName).filterMetadata('SENSING_ORBIT_NUMBER','equals', orbit).mosaic()\n",
        "    return im.set(\n",
        "        \"system:time_start\", date1.millis(),\n",
        "        \"system:date\", date1.format(\"YYYY-MM-dd\"),\n",
        "        \"system:id\", d1)\n",
        "  mosaic_imlist = concat_unique.map(mosaicIms)\n",
        "  return ee.ImageCollection(mosaic_imlist)"
      ],
      "metadata": {
        "id": "y6z84fHQ9XoG",
        "colab": {
          "base_uri": "https://localhost:8080/",
          "height": 17
        },
        "outputId": "a95e5e5e-51ca-4fc0-f979-12460f4d0013"
      },
      "execution_count": null,
      "outputs": [
        {
          "output_type": "display_data",
          "data": {
            "text/plain": [
              "<IPython.core.display.HTML object>"
            ],
            "text/html": [
              "\n",
              "            <style>\n",
              "                .geemap-dark {\n",
              "                    --jp-widgets-color: white;\n",
              "                    --jp-widgets-label-color: white;\n",
              "                    --jp-ui-font-color1: white;\n",
              "                    --jp-layout-color2: #454545;\n",
              "                    background-color: #383838;\n",
              "                }\n",
              "                    \n",
              "                .geemap-dark .jupyter-button {\n",
              "                    --jp-layout-color3: #383838;\n",
              "                }\n",
              "                \n",
              "                .geemap-colab {\n",
              "                    background-color: var(--colab-primary-surface-color, white);\n",
              "                }\n",
              "                    \n",
              "                .geemap-colab .jupyter-button {\n",
              "                    --jp-layout-color3: var(--colab-primary-surface-color, white);\n",
              "                }\n",
              "            </style>\n",
              "            "
            ]
          },
          "metadata": {}
        }
      ]
    },
    {
      "cell_type": "markdown",
      "source": [
        "### Water Classification Methods"
      ],
      "metadata": {
        "id": "UhDb_9d-9hSX"
      }
    },
    {
      "cell_type": "code",
      "source": [
        "# Define NDWI image\n",
        "def ndwi(image):\n",
        "  '''Adds an NDWI band to the input image'''\n",
        "  return image.normalizedDifference(['B3', 'B8']).rename('NDWI').multiply(1000)\n",
        "\n",
        "# Basic ndwi classification\n",
        "def ndwi_classify(image):\n",
        "  '''Creates a binary image based on an NDWI threshold of 0'''\n",
        "  ndwimask = image.select('NDWI')\n",
        "  water = ndwimask.gte(0)\n",
        "  land = ndwimask.lt(0)\n",
        "  return(water)\n",
        "\n",
        "# OTSU thresholding from histogram\n",
        "def otsu(histogram):\n",
        "  '''Returns the NDWI threshold for binary water classification'''\n",
        "  counts = ee.Array(ee.Dictionary(histogram).get('histogram'))\n",
        "  means = ee.Array(ee.Dictionary(histogram).get('bucketMeans'))\n",
        "  size = means.length().get([0])\n",
        "  total = counts.reduce(ee.Reducer.sum(), [0]).get([0])\n",
        "  sum = means.multiply(counts).reduce(ee.Reducer.sum(), [0]).get([0])\n",
        "  mean = sum.divide(total)\n",
        "  indices = ee.List.sequence(1, size)\n",
        "  def func_xxx(i):\n",
        "    '''Compute between sum of squares, where each mean partitions the data.'''\n",
        "    aCounts = counts.slice(0, 0, i)\n",
        "    aCount = aCounts.reduce(ee.Reducer.sum(), [0]).get([0])\n",
        "    aMeans = means.slice(0, 0, i)\n",
        "    aMean = aMeans.multiply(aCounts) \\\n",
        "        .reduce(ee.Reducer.sum(), [0]).get([0]) \\\n",
        "        .divide(aCount)\n",
        "    bCount = total.subtract(aCount)\n",
        "    bMean = sum.subtract(aCount.multiply(aMean)).divide(bCount)\n",
        "    return aCount.multiply(aMean.subtract(mean).pow(2)).add(\n",
        "           bCount.multiply(bMean.subtract(mean).pow(2)))\n",
        "  bss = indices.map(func_xxx)\n",
        "  # Return the mean value corresponding to the maximum BSS.\n",
        "  return means.sort(bss).get([-1])\n",
        "\n",
        "# OTSU thresholding for an image\n",
        "def otsu_thresh(water_image):\n",
        "  '''Calculate NDWI and create histogram. Return the OTSU threshold.'''\n",
        "  NDWI = ndwi(water_image).select('NDWI').updateMask(water_image.select('clear_mask'))\n",
        "  histogram = ee.Dictionary(NDWI.reduceRegion(\n",
        "    geometry = roi,\n",
        "    reducer = ee.Reducer.histogram(255, 2).combine('mean', None, True).combine('variance', None, True),\n",
        "    scale = pixScale,\n",
        "    maxPixels = 1e12\n",
        "  ))\n",
        "  return otsu(histogram.get('NDWI_histogram'))\n",
        "\n",
        "# Classify an image using OTSU threshold.\n",
        "def otsu_classify(water_image):\n",
        "  '''(1) Calculate NDWI and create histogram. (2) Calculate NDWI threshold for\n",
        "  binary classification using OTSU method. (3) Classify image and add layer to input image.\n",
        "  '''\n",
        "  NDWI = ndwi(water_image).select('NDWI')\n",
        "  histogram = ee.Dictionary(NDWI.reduceRegion(\n",
        "    geometry = roi,\n",
        "    reducer = ee.Reducer.histogram(255, 2).combine('mean', None, True).combine('variance', None, True),\n",
        "    scale = pixScale,\n",
        "    maxPixels = 1e12\n",
        "  ))\n",
        "  threshold = otsu(histogram.get('NDWI_histogram'))\n",
        "  otsu_classed = NDWI.gt(ee.Number(threshold)).And(water_image.select('B8').lt(2000)).rename('otsu_classed')\n",
        "  return water_image.addBands([otsu_classed])\n",
        "\n",
        "def adaptive_thresholding(water_image):\n",
        "  '''Takes an image clipped to lakes and returns the water mask'''\n",
        "  NDWI = ndwi(water_image).select('NDWI')#.updateMask(water_image.select('clear_mask')) # get NDWI **TURNED OFF CLOUD MASK, SHOULD THIS STAY OFF?**\n",
        "  threshold = ee.Number(otsu_thresh(water_image))\n",
        "  threshold = threshold.divide(10).round().multiply(10)\n",
        "\n",
        "  # get fixed histogram\n",
        "  histo = NDWI.reduceRegion(\n",
        "      geometry = roi,\n",
        "      reducer = ee.Reducer.fixedHistogram(-1000, 1000, 200),\n",
        "      scale = pixScale, # This was 30, keep at 10!?!?\n",
        "      maxPixels = 1e12\n",
        "  )\n",
        "  hist = ee.Array(histo.get('NDWI'))\n",
        "  counts = hist.cut([-1,1])\n",
        "  buckets = hist.cut([-1,0])\n",
        "\n",
        "  #find split points from otsu threshold\n",
        "  threshold = ee.Array([threshold]).toList()\n",
        "  buckets_list = buckets.toList()\n",
        "  split = buckets_list.indexOf(threshold)\n",
        "\n",
        "  # split into land and water slices\n",
        "  land_slice = counts.slice(0,0,split)\n",
        "  water_slice = counts.slice(0,split.add(1),-1)\n",
        "\n",
        "  # find max of land and water slices\n",
        "  land_max = land_slice.reduce(ee.Reducer.max(),[0])\n",
        "  water_max = water_slice.reduce(ee.Reducer.max(),[0])\n",
        "  land_max = land_max.toList().get(0)\n",
        "  water_max = water_max.toList().get(0)\n",
        "  land_max = ee.List(land_max).getNumber(0)\n",
        "  water_max = ee.List(water_max).getNumber(0)\n",
        "\n",
        "  #find difference between land, water and otsu val\n",
        "  counts_list = counts.toList()\n",
        "  otsu_val = ee.Number(counts_list.get(split))\n",
        "  otsu_val = ee.List(otsu_val).getNumber(0)\n",
        "  land_prom = ee.Number(land_max).subtract(otsu_val)\n",
        "  water_prom = ee.Number(water_max).subtract(otsu_val)\n",
        "\n",
        "  #find land and water buckets corresponding to 0.9 times the prominence\n",
        "  land_thresh = ee.Number(land_max).subtract((land_prom).multiply(ee.Number(0.9)))\n",
        "  water_thresh = ee.Number(water_max).subtract((water_prom).multiply(ee.Number(0.9)))\n",
        "  land_max_ind = land_slice.argmax().get(0)\n",
        "  water_max_ind = water_slice.argmax().get(0)\n",
        "  li = ee.Number(land_max_ind).subtract(1)\n",
        "  li = li.max(ee.Number(1))\n",
        "  wi = ee.Number(water_max_ind).add(1)\n",
        "  wi = wi.min(ee.Number(199))\n",
        "  land_slice2 = land_slice.slice(0,li,-1).subtract(land_thresh)\n",
        "  water_slice2 = water_slice.slice(0,0,wi).subtract(water_thresh)\n",
        "  land_slice2  = land_slice2.abs().multiply(-1)\n",
        "  water_slice2 = water_slice2.abs().multiply(-1)\n",
        "  land_index = ee.Number(land_slice2.argmax().get(0)).add(land_max_ind)\n",
        "  water_index = ee.Number(water_slice2.argmax().get(0)).add(split)\n",
        "  land_level = ee.Number(buckets_list.get(land_index))\n",
        "  water_level = ee.Number(buckets_list.get(water_index))\n",
        "  land_level = ee.Number(ee.List(land_level).get(0)).add(5)\n",
        "  water_level = ee.Number(ee.List(water_level).get(0)).add(5)\n",
        "\n",
        "  #calculate water fraction and classify\n",
        "  water_fraction = (NDWI.subtract(land_level)).divide(water_level.subtract(land_level)).multiply(100).rename('water_fraction')\n",
        "  #water_fraction = conditional(water_fraction) #sets values less than 0 to 0 and greater than 100 to 100\n",
        "  water_75 = water_fraction.gte(75).rename('water_75'); #note, this is a non-binary classification, so we use 75% water as \"water\"\n",
        "  all_mask = water_image.select('B2').gt(5).rename('all_mask')\n",
        "  cloud_mask_ed = water_image.select('clear_mask').neq(1).rename('cloud_mask_ed')\n",
        "  return water_image.addBands([water_fraction,water_75,NDWI,cloud_mask_ed])\n",
        "\n",
        "# Apply cloud mask to other bands\n",
        "def applyMask(image):\n",
        "  img = image.updateMask(image.select('clear_mask'))\n",
        "  return img\n",
        "def binaryImage(image):\n",
        "  '''takes a multiband image and returns just the binary water_75 band'''\n",
        "  img = image.select('water_75')\n",
        "  return img\n",
        "def waterImage(image):\n",
        "  '''takes a multiband image and returns just the water fraction band'''\n",
        "  img = image.select('water_fraction')\n",
        "  return img"
      ],
      "metadata": {
        "id": "wuk2YNOf9esv",
        "colab": {
          "base_uri": "https://localhost:8080/",
          "height": 17
        },
        "outputId": "a4b95a50-7b81-4677-95b1-96b79f12c112"
      },
      "execution_count": null,
      "outputs": [
        {
          "output_type": "display_data",
          "data": {
            "text/plain": [
              "<IPython.core.display.HTML object>"
            ],
            "text/html": [
              "\n",
              "            <style>\n",
              "                .geemap-dark {\n",
              "                    --jp-widgets-color: white;\n",
              "                    --jp-widgets-label-color: white;\n",
              "                    --jp-ui-font-color1: white;\n",
              "                    --jp-layout-color2: #454545;\n",
              "                    background-color: #383838;\n",
              "                }\n",
              "                    \n",
              "                .geemap-dark .jupyter-button {\n",
              "                    --jp-layout-color3: #383838;\n",
              "                }\n",
              "                \n",
              "                .geemap-colab {\n",
              "                    background-color: var(--colab-primary-surface-color, white);\n",
              "                }\n",
              "                    \n",
              "                .geemap-colab .jupyter-button {\n",
              "                    --jp-layout-color3: var(--colab-primary-surface-color, white);\n",
              "                }\n",
              "            </style>\n",
              "            "
            ]
          },
          "metadata": {}
        }
      ]
    },
    {
      "cell_type": "markdown",
      "source": [
        "##### Unused Function Graveyard"
      ],
      "metadata": {
        "id": "9wyuEMUz-AVm"
      }
    },
    {
      "cell_type": "code",
      "source": [
        "#################### unused functions below ##################\n",
        "# def sumClear(lake):\n",
        "  # '''sums the number of clear pixels within a buffered lake polygon'''\n",
        "  # clearsum = lakeIm.select('clear_mask').reduceRegion(\n",
        "      # reducer=ee.Reducer.sum(),\n",
        "      # geometry = lake.geometry(),\n",
        "      # scale = 10,\n",
        "      # maxPixels=1e9\n",
        "  # ).get('clear_mask')\n",
        "  # return clearsum\n",
        "\n",
        "# def sumClouds(lake):\n",
        "  # '''sums the number of clear pixels within a buffered lake polygon'''\n",
        "  # cloudsum = lakeIm.select('cloud_mask_ed').reduceRegion(\n",
        "      # reducer=ee.Reducer.sum(),\n",
        "      # geometry = lake.geometry(),\n",
        "      # scale = 10,\n",
        "      # maxPixels=1e9\n",
        "  # ).get('cloud_mask_ed')\n",
        "  # return cloudsum\n",
        "\n",
        "#def sumAll(lake):\n",
        "  # '''sums the number of pixels within a buffered lake polygon'''\n",
        "  # all_mask = lakeIm.select('B2').gt(5).rename('all_mask')\n",
        "  # allsum = all_mask.reduceRegion(\n",
        "      # reducer=ee.Reducer.count(),\n",
        "      # geometry = lake.geometry(),\n",
        "      # scale = 10,\n",
        "      # maxPixels=1e9\n",
        "      # ).get('all_mask')\n",
        "  # return allsum\n",
        "\n",
        "#def getCount(lake):\n",
        "#  count = ee.Number(lake.get('count'))\n",
        "#  return count\n",
        "############################################################\n",
        "\n",
        "# def ice_classify(image):\n",
        "    # ice_mask = image.select(['SCL']).eq(11).rename('ice_mask')   # Select the 'SCL' band, = 11, and rename\n",
        "    # ice = ice_mask\n",
        "    # not_ice = ice_mask.eq(0)\n",
        "    # return(ice)"
      ],
      "metadata": {
        "id": "mXDfqVJF9Ptd",
        "colab": {
          "base_uri": "https://localhost:8080/"
        },
        "outputId": "547305d4-5682-41fd-c2ba-979db93248db"
      },
      "execution_count": null,
      "outputs": [
        {
          "output_type": "display_data",
          "data": {
            "text/plain": [
              "<IPython.core.display.HTML object>"
            ],
            "text/html": [
              "\n",
              "            <style>\n",
              "                .geemap-dark {\n",
              "                    --jp-widgets-color: white;\n",
              "                    --jp-widgets-label-color: white;\n",
              "                    --jp-ui-font-color1: white;\n",
              "                    --jp-layout-color2: #454545;\n",
              "                    background-color: #383838;\n",
              "                }\n",
              "                    \n",
              "                .geemap-dark .jupyter-button {\n",
              "                    --jp-layout-color3: #383838;\n",
              "                }\n",
              "                \n",
              "                .geemap-colab {\n",
              "                    background-color: var(--colab-primary-surface-color, white);\n",
              "                }\n",
              "                    \n",
              "                .geemap-colab .jupyter-button {\n",
              "                    --jp-layout-color3: var(--colab-primary-surface-color, white);\n",
              "                }\n",
              "            </style>\n",
              "            "
            ]
          },
          "metadata": {}
        }
      ]
    },
    {
      "cell_type": "markdown",
      "source": [
        "### Ice Classification Methods"
      ],
      "metadata": {
        "id": "epNkLkuZSD7P"
      }
    },
    {
      "cell_type": "code",
      "source": [
        "#FUNCTION\n",
        "# def ice_classify(image):\n",
        "#     clear_mask = image.select('clear_mask')\n",
        "#     ice = image.select('B4').gte(950).rename('ice')  # greater than or equal to... threshold here\n",
        "#     all = image.select('B4').gte(1).rename('all')\n",
        "#     return image.addBands([ice, all])\n",
        "\n",
        "def ice_classify(image):\n",
        "    clear_mask = image.select('clear_mask')\n",
        "    ice = image.select('B4').gte(950).rename('ice')  # greater than or equal to... threshold here\n",
        "    ice = ice.updateMask(clear_mask)  # Apply clear mask to ice classification\n",
        "    all = image.select('B4').gte(1).rename('all')\n",
        "    return image.addBands([ice, all])\n"
      ],
      "metadata": {
        "id": "7zMoY5KSSDX3",
        "colab": {
          "base_uri": "https://localhost:8080/",
          "height": 17
        },
        "outputId": "54ff3ce3-5f38-404b-8834-29288c86e93f"
      },
      "execution_count": null,
      "outputs": [
        {
          "output_type": "display_data",
          "data": {
            "text/plain": [
              "<IPython.core.display.HTML object>"
            ],
            "text/html": [
              "\n",
              "            <style>\n",
              "                .geemap-dark {\n",
              "                    --jp-widgets-color: white;\n",
              "                    --jp-widgets-label-color: white;\n",
              "                    --jp-ui-font-color1: white;\n",
              "                    --jp-layout-color2: #454545;\n",
              "                    background-color: #383838;\n",
              "                }\n",
              "                    \n",
              "                .geemap-dark .jupyter-button {\n",
              "                    --jp-layout-color3: #383838;\n",
              "                }\n",
              "                \n",
              "                .geemap-colab {\n",
              "                    background-color: var(--colab-primary-surface-color, white);\n",
              "                }\n",
              "                    \n",
              "                .geemap-colab .jupyter-button {\n",
              "                    --jp-layout-color3: var(--colab-primary-surface-color, white);\n",
              "                }\n",
              "            </style>\n",
              "            "
            ]
          },
          "metadata": {}
        }
      ]
    },
    {
      "cell_type": "markdown",
      "source": [
        "### Property Extraction + Export Methods"
      ],
      "metadata": {
        "id": "THvEYwtb95zR"
      }
    },
    {
      "cell_type": "code",
      "execution_count": null,
      "metadata": {
        "id": "A6D112FJLqXV",
        "colab": {
          "base_uri": "https://localhost:8080/",
          "height": 17
        },
        "outputId": "c8a265dc-16da-4464-8ddd-8972b4489ddf"
      },
      "outputs": [
        {
          "output_type": "display_data",
          "data": {
            "text/plain": [
              "<IPython.core.display.HTML object>"
            ],
            "text/html": [
              "\n",
              "            <style>\n",
              "                .geemap-dark {\n",
              "                    --jp-widgets-color: white;\n",
              "                    --jp-widgets-label-color: white;\n",
              "                    --jp-ui-font-color1: white;\n",
              "                    --jp-layout-color2: #454545;\n",
              "                    background-color: #383838;\n",
              "                }\n",
              "                    \n",
              "                .geemap-dark .jupyter-button {\n",
              "                    --jp-layout-color3: #383838;\n",
              "                }\n",
              "                \n",
              "                .geemap-colab {\n",
              "                    background-color: var(--colab-primary-surface-color, white);\n",
              "                }\n",
              "                    \n",
              "                .geemap-colab .jupyter-button {\n",
              "                    --jp-layout-color3: var(--colab-primary-surface-color, white);\n",
              "                }\n",
              "            </style>\n",
              "            "
            ]
          },
          "metadata": {}
        }
      ],
      "source": [
        "def sumWater(lake):\n",
        "  '''sums the water pixels within a buffered lake polygon and adds the result to the feature'''\n",
        "  watersum = waterAreaIm.select('area').reduceRegion(\n",
        "      reducer=ee.Reducer.sum(),\n",
        "      geometry = lake.geometry(),\n",
        "      scale = 10,\n",
        "      maxPixels=1e9\n",
        "  ).get('area')\n",
        "  return watersum\n",
        "\n",
        "def getClearArea(lake):\n",
        "  clearArea = clearAreaIm.select('area').reduceRegion(\n",
        "      reducer=ee.Reducer.sum(),\n",
        "      geometry = lake.geometry(),\n",
        "      scale = 10,\n",
        "      maxPixels=1e9\n",
        "  ).get('area')\n",
        "  return clearArea\n",
        "\n",
        "def getCloudArea(lake):\n",
        "  cloudArea = cloudAreaIm.select('area').reduceRegion(\n",
        "      reducer=ee.Reducer.sum(),\n",
        "      geometry = lake.geometry(),\n",
        "      scale = 10,\n",
        "      maxPixels=1e9\n",
        "  ).get('area')\n",
        "  return cloudArea\n",
        "\n",
        "def troid(lake):\n",
        "  center = ee.Array(lake.centroid().geometry().coordinates())\n",
        "  return center\n",
        "\n",
        "# def getID(lake):\n",
        "#   '''get the EarthEngine id'''\n",
        "#   id = ee.Number(lake.id())\n",
        "#   return id\n",
        "\n",
        "def getLake_ID(lake):\n",
        "  '''get the Lake_ID field from shapefile'''\n",
        "  Lake_ID = ee.Number(lake.get('lake_ID'))\n",
        "  return Lake_ID\n",
        "\n",
        "def getIceArea(lake):\n",
        "  iceArea = iceAreaIm.select('area').reduceRegion(\n",
        "      reducer=ee.Reducer.sum(),\n",
        "      geometry = lake.geometry(),\n",
        "      scale = 10,\n",
        "      maxPixels=1e9\n",
        "  ).get('area')\n",
        "  return iceArea\n",
        "\n",
        "\n",
        "\n",
        "# Utilize above functions\n",
        "def lakePropsWater(lake):\n",
        "  water = sumWater(lake)\n",
        "  centroid = troid(lake)\n",
        "  #id = getID(lake)\n",
        "  Lake_ID = getLake_ID(lake)\n",
        "  cloudArea = getCloudArea(lake)\n",
        "  clearArea = getClearArea(lake)\n",
        "  return ee.Feature(None, {'Lake_ID': Lake_ID, 'waterArea': water, 'clearArea': clearArea,  'cloudArea': cloudArea, 'centroid': centroid})\n",
        "#TODO: alter return function to match whatever I rename clearArea as\n",
        "\n",
        "\n",
        "def lakePropsIce(lake):\n",
        "  iceArea = getIceArea(lake)\n",
        "  Lake_ID = getLake_ID(lake)\n",
        "  clearArea = getClearArea(lake)\n",
        "  centroid = troid(lake)\n",
        "  return ee.Feature(None, {'Lake_ID': Lake_ID, 'iceArea': iceArea,'clearArea': clearArea, 'centroid': centroid})\n",
        "\n",
        "########################################################################\n",
        "\n",
        "## ***EXPORT METHODS***\n",
        "def export_lakes(collection, description, fileNamePrefix, fileFormat, folder, selectors):\n",
        "  '''Export a feature collection of lake properties to google drive for a given day.'''\n",
        "  task = ee.batch.Export.table.toDrive(**{\n",
        "    'collection': collection,\n",
        "    'description': description,\n",
        "    'fileNamePrefix': fileNamePrefix,\n",
        "    'fileFormat': fileFormat,\n",
        "    'folder': folder,\n",
        "    'selectors': selectors\n",
        "  })\n",
        "  task.start()"
      ]
    },
    {
      "cell_type": "markdown",
      "metadata": {
        "id": "iodnIKGsLvl-"
      },
      "source": [
        "# Main"
      ]
    },
    {
      "cell_type": "code",
      "execution_count": null,
      "metadata": {
        "id": "heuw1Juc2btY",
        "colab": {
          "base_uri": "https://localhost:8080/",
          "height": 34
        },
        "outputId": "2ffefe37-7320-42da-ddf3-31eb24b5ddbd"
      },
      "outputs": [
        {
          "output_type": "display_data",
          "data": {
            "text/plain": [
              "<IPython.core.display.HTML object>"
            ],
            "text/html": [
              "\n",
              "            <style>\n",
              "                .geemap-dark {\n",
              "                    --jp-widgets-color: white;\n",
              "                    --jp-widgets-label-color: white;\n",
              "                    --jp-ui-font-color1: white;\n",
              "                    --jp-layout-color2: #454545;\n",
              "                    background-color: #383838;\n",
              "                }\n",
              "                    \n",
              "                .geemap-dark .jupyter-button {\n",
              "                    --jp-layout-color3: #383838;\n",
              "                }\n",
              "                \n",
              "                .geemap-colab {\n",
              "                    background-color: var(--colab-primary-surface-color, white);\n",
              "                }\n",
              "                    \n",
              "                .geemap-colab .jupyter-button {\n",
              "                    --jp-layout-color3: var(--colab-primary-surface-color, white);\n",
              "                }\n",
              "            </style>\n",
              "            "
            ]
          },
          "metadata": {}
        },
        {
          "output_type": "execute_result",
          "data": {
            "text/plain": [
              "['2018-05-03']"
            ]
          },
          "metadata": {},
          "execution_count": 8
        }
      ],
      "source": [
        "from enum import unique\n",
        "##############################################################################\n",
        "## *** IMAGE PROCESSING ***\n",
        "images = ee.ImageCollection('COPERNICUS/S2_HARMONIZED').filterBounds(roi).filterDate(start,finish).filter(ee.Filter.calendarRange(startDoy, endDoy, 'day_of_year')).filter(ee.Filter.lt('CLOUDY_PIXEL_PERCENTAGE',55)) # Get Images\n",
        "images_all = mosaicBy(images) # Mosaic images\n",
        "images_all = images_all.map(maskS2clouds) # Create cloud/clear masks\n",
        "images_all = images_all.map(clip_image) # Clip to roi\n",
        "images_all.map(applyMask) # mask other bands for clouds\n",
        "area = roi.area().getInfo() # Calculate total area\n",
        "\n",
        "# Filter by percentile cover\n",
        "images_all = images_all.map(getCover) # Add percent cover as an image property\n",
        "images_all = images_all.filterMetadata('percCover','greater_than',10) # remove images covering less than 50% of the ROI)\n",
        "lakeimages = images_all.map(clip2lakes) # Clip images to buffered lake mask\n",
        "lakeimages_ice = images_all.map(clip2lakes_ice) # Clip images to unbuffered, filtered lake mask\n",
        "\n",
        "#see how many images we've got\n",
        "dates = lakeimages.aggregate_array('system:date').getInfo()\n",
        "dates\n",
        "dates2 = lakeimages_ice.aggregate_array('system:date').getInfo()\n",
        "dates2"
      ]
    },
    {
      "cell_type": "code",
      "execution_count": null,
      "metadata": {
        "id": "98zfNETwTzLg",
        "colab": {
          "base_uri": "https://localhost:8080/",
          "height": 17
        },
        "outputId": "9b91557b-917f-4140-d1c3-a81cadfa318b"
      },
      "outputs": [
        {
          "output_type": "display_data",
          "data": {
            "text/plain": [
              "<IPython.core.display.HTML object>"
            ],
            "text/html": [
              "\n",
              "            <style>\n",
              "                .geemap-dark {\n",
              "                    --jp-widgets-color: white;\n",
              "                    --jp-widgets-label-color: white;\n",
              "                    --jp-ui-font-color1: white;\n",
              "                    --jp-layout-color2: #454545;\n",
              "                    background-color: #383838;\n",
              "                }\n",
              "                    \n",
              "                .geemap-dark .jupyter-button {\n",
              "                    --jp-layout-color3: #383838;\n",
              "                }\n",
              "                \n",
              "                .geemap-colab {\n",
              "                    background-color: var(--colab-primary-surface-color, white);\n",
              "                }\n",
              "                    \n",
              "                .geemap-colab .jupyter-button {\n",
              "                    --jp-layout-color3: var(--colab-primary-surface-color, white);\n",
              "                }\n",
              "            </style>\n",
              "            "
            ]
          },
          "metadata": {}
        }
      ],
      "source": [
        "###############################################################################\n",
        "## ***WATER CLASSIFICATION***\n",
        "lakeimages = lakeimages.map(adaptive_thresholding)\n",
        "\n",
        "## ***ICE CLASSIFICATION***\n",
        "lakeimages_ice = lakeimages_ice.map(ice_classify)\n",
        "\n",
        "###############################################################################\n",
        "## ***ITERATE THROUGH DAYS AND EXPORT***\n",
        "for i, date in enumerate(dates):\n",
        "  # Get lake properties\n",
        "  eedate = ee.Date(date) #earthengine date format\n",
        "  #water\n",
        "  lakeIm = lakeimages.filterDate(eedate).first() # get the appropriate date\n",
        "  areaIm = lakeIm.pixelArea() # get a pixel area image\n",
        "  lakeIm = lakeIm.addBands([areaIm]) # add pixel area as a band in the image\n",
        "  waterAreaIm = areaIm.updateMask(lakeIm.select('water_75')) # mask area image based on water\n",
        "  cloudAreaIm = areaIm.updateMask(lakeIm.select('cloud_mask_ed')) # mask area image based on clouds\n",
        "  clearAreaIm = areaIm.updateMask(lakeIm.select('clear_mask')) # mask area image based on clearness\n",
        "\n",
        "  #ice\n",
        "  lakeIm2 = lakeimages_ice.filterDate(eedate).first() #get date\n",
        "  areaIm2 = lakeIm2.pixelArea() # get a pixel area image\n",
        "  lakeIm2 = lakeIm2.addBands([areaIm2]) # add pixel area as band in image\n",
        "  iceAreaIm = areaIm2.updateMask(lakeIm2.select('ice')) #mask area image based on ice\n",
        "  clearAreaIm = areaIm2.updateMask(lakeIm2.select('clear_mask'))\n",
        "  #TODO: ADD\n",
        "\n",
        "\n",
        "  #apply for water and ice\n",
        "  water = lakes.map(lakePropsWater)\n",
        "  ice = lakes_forIce.map(lakePropsIce)\n",
        "\n",
        "  # Export\n",
        "  exportDate = date.replace('-', '_')\n",
        "  descriptionI = labelI +'_'+ exportDate\n",
        "  descriptionW = labelW +'_'+ exportDate\n",
        "  fileformat = 'CSV'\n",
        "  export_lakes(water, descriptionW, descriptionW, fileformat, exportFolder, exportSelectorsWater)\n",
        "  export_lakes(ice, descriptionI, descriptionI, fileformat, exportFolder, exportSelectorsIce)"
      ]
    },
    {
      "cell_type": "code",
      "source": [
        "#Comparison based on looking at same lake\n",
        "commonID = 48\n",
        "\n",
        "waterr = water.filter(ee.Filter.eq('Lake_ID', commonID))\n",
        "watertest = waterr.first()\n",
        "\n",
        "icee = ice.filter(ee.Filter.eq('Lake_ID', commonID)).first()\n",
        "\n",
        "watertest.getInfo()"
      ],
      "metadata": {
        "colab": {
          "base_uri": "https://localhost:8080/",
          "height": 156
        },
        "id": "7iRwOAjdOAvF",
        "outputId": "b7db5734-2941-4939-dbf3-e09264699123"
      },
      "execution_count": null,
      "outputs": [
        {
          "output_type": "display_data",
          "data": {
            "text/plain": [
              "<IPython.core.display.HTML object>"
            ],
            "text/html": [
              "\n",
              "            <style>\n",
              "                .geemap-dark {\n",
              "                    --jp-widgets-color: white;\n",
              "                    --jp-widgets-label-color: white;\n",
              "                    --jp-ui-font-color1: white;\n",
              "                    --jp-layout-color2: #454545;\n",
              "                    background-color: #383838;\n",
              "                }\n",
              "                    \n",
              "                .geemap-dark .jupyter-button {\n",
              "                    --jp-layout-color3: #383838;\n",
              "                }\n",
              "                \n",
              "                .geemap-colab {\n",
              "                    background-color: var(--colab-primary-surface-color, white);\n",
              "                }\n",
              "                    \n",
              "                .geemap-colab .jupyter-button {\n",
              "                    --jp-layout-color3: var(--colab-primary-surface-color, white);\n",
              "                }\n",
              "            </style>\n",
              "            "
            ]
          },
          "metadata": {}
        },
        {
          "output_type": "execute_result",
          "data": {
            "text/plain": [
              "{'type': 'Feature',\n",
              " 'geometry': None,\n",
              " 'id': '00000000000000000799',\n",
              " 'properties': {'Lake_ID': 48,\n",
              "  'centroid': [-162.01770821651982, 60.91519752532024],\n",
              "  'clearArea': 13073.701076507568,\n",
              "  'cloudArea': 0,\n",
              "  'waterArea': 22546.863637138817}}"
            ]
          },
          "metadata": {},
          "execution_count": 29
        }
      ]
    },
    {
      "cell_type": "code",
      "source": [
        "icetest = ice.first()\n",
        "icetest.getInfo()"
      ],
      "metadata": {
        "colab": {
          "base_uri": "https://localhost:8080/",
          "height": 138
        },
        "id": "k6gdKhMV4Rdj",
        "outputId": "526313be-4549-428a-be07-a4752b3f9212"
      },
      "execution_count": null,
      "outputs": [
        {
          "output_type": "display_data",
          "data": {
            "text/plain": [
              "<IPython.core.display.HTML object>"
            ],
            "text/html": [
              "\n",
              "            <style>\n",
              "                .geemap-dark {\n",
              "                    --jp-widgets-color: white;\n",
              "                    --jp-widgets-label-color: white;\n",
              "                    --jp-ui-font-color1: white;\n",
              "                    --jp-layout-color2: #454545;\n",
              "                    background-color: #383838;\n",
              "                }\n",
              "                    \n",
              "                .geemap-dark .jupyter-button {\n",
              "                    --jp-layout-color3: #383838;\n",
              "                }\n",
              "                \n",
              "                .geemap-colab {\n",
              "                    background-color: var(--colab-primary-surface-color, white);\n",
              "                }\n",
              "                    \n",
              "                .geemap-colab .jupyter-button {\n",
              "                    --jp-layout-color3: var(--colab-primary-surface-color, white);\n",
              "                }\n",
              "            </style>\n",
              "            "
            ]
          },
          "metadata": {}
        },
        {
          "output_type": "execute_result",
          "data": {
            "text/plain": [
              "{'type': 'Feature',\n",
              " 'geometry': None,\n",
              " 'id': '00000000000000000000',\n",
              " 'properties': {'Lake_ID': 48,\n",
              "  'centroid': [-162.01761511214946, 60.91522079060184],\n",
              "  'clearArea': 11947.679591324752,\n",
              "  'iceArea': 11947.679591324752}}"
            ]
          },
          "metadata": {},
          "execution_count": 30
        }
      ]
    },
    {
      "cell_type": "code",
      "source": [
        "watertest = water.first()\n",
        "watertest.getInfo()"
      ],
      "metadata": {
        "id": "KzlOL8n_nxvZ"
      },
      "execution_count": null,
      "outputs": []
    },
    {
      "cell_type": "markdown",
      "source": [
        "# Visualization\n",
        "###### *** When exporting image need to uncheck \"include read only scopes\" during authentication ***"
      ],
      "metadata": {
        "id": "kdDqGFnRboxq"
      }
    },
    {
      "cell_type": "markdown",
      "source": [
        "## Map\n",
        "##### Prelim. map steps"
      ],
      "metadata": {
        "id": "zOBfUZszvWma"
      }
    },
    {
      "cell_type": "code",
      "source": [
        "lakeimages = lakeimages.map(adaptive_thresholding) #redundant\n",
        "waterimg = ee.Image(lakeimages.first()) #isolate single image\n",
        "waterimg.getInfo() #forcing GEE in order to visualize\n",
        "\n",
        "#repeat for ice\n",
        "lakeimages_ice = lakeimages_ice.map(ice_classify)\n",
        "iceimg = ee.Image(lakeimages_ice.first())\n",
        "iceimg.getInfo()\n",
        "\n",
        "inverted_clear_mask = iceimg.select('clear_mask').eq(0)  # Invert the clear_mask\n",
        "inverted_clear_mask_vis = inverted_clear_mask.visualize(palette=['white', 'grey'])\n",
        "\n",
        "task = ee.batch.Export.image.toDrive(**{\n",
        "    'image': inverted_clear_mask_vis,\n",
        "    'description': 'cloud_mask_vis',\n",
        "    'folder': 'Visualization',\n",
        "    'fileFormat': 'GeoTIFF',\n",
        "    'scale': 10,\n",
        "    'region': roi,\n",
        "    'maxPixels': 1e12\n",
        "})\n",
        "task.start()\n",
        "\n",
        "import time\n",
        "while task.active():\n",
        "    print('Polling for task (id: {}).'.format(task.id))\n",
        "    time.sleep(5)\n"
      ],
      "metadata": {
        "id": "QVIcK6rz0KGu",
        "colab": {
          "base_uri": "https://localhost:8080/",
          "height": 1000
        },
        "outputId": "bca28cc9-38ca-40de-88de-35bce3671749"
      },
      "execution_count": null,
      "outputs": [
        {
          "output_type": "display_data",
          "data": {
            "text/plain": [
              "<IPython.core.display.HTML object>"
            ],
            "text/html": [
              "\n",
              "            <style>\n",
              "                .geemap-dark {\n",
              "                    --jp-widgets-color: white;\n",
              "                    --jp-widgets-label-color: white;\n",
              "                    --jp-ui-font-color1: white;\n",
              "                    --jp-layout-color2: #454545;\n",
              "                    background-color: #383838;\n",
              "                }\n",
              "                    \n",
              "                .geemap-dark .jupyter-button {\n",
              "                    --jp-layout-color3: #383838;\n",
              "                }\n",
              "                \n",
              "                .geemap-colab {\n",
              "                    background-color: var(--colab-primary-surface-color, white);\n",
              "                }\n",
              "                    \n",
              "                .geemap-colab .jupyter-button {\n",
              "                    --jp-layout-color3: var(--colab-primary-surface-color, white);\n",
              "                }\n",
              "            </style>\n",
              "            "
            ]
          },
          "metadata": {}
        },
        {
          "output_type": "stream",
          "name": "stdout",
          "text": [
            "Polling for task (id: 2MRDIIQU27XBQH6AFPMFBQV2).\n",
            "Polling for task (id: 2MRDIIQU27XBQH6AFPMFBQV2).\n",
            "Polling for task (id: 2MRDIIQU27XBQH6AFPMFBQV2).\n",
            "Polling for task (id: 2MRDIIQU27XBQH6AFPMFBQV2).\n",
            "Polling for task (id: 2MRDIIQU27XBQH6AFPMFBQV2).\n",
            "Polling for task (id: 2MRDIIQU27XBQH6AFPMFBQV2).\n",
            "Polling for task (id: 2MRDIIQU27XBQH6AFPMFBQV2).\n",
            "Polling for task (id: 2MRDIIQU27XBQH6AFPMFBQV2).\n",
            "Polling for task (id: 2MRDIIQU27XBQH6AFPMFBQV2).\n",
            "Polling for task (id: 2MRDIIQU27XBQH6AFPMFBQV2).\n",
            "Polling for task (id: 2MRDIIQU27XBQH6AFPMFBQV2).\n",
            "Polling for task (id: 2MRDIIQU27XBQH6AFPMFBQV2).\n",
            "Polling for task (id: 2MRDIIQU27XBQH6AFPMFBQV2).\n",
            "Polling for task (id: 2MRDIIQU27XBQH6AFPMFBQV2).\n",
            "Polling for task (id: 2MRDIIQU27XBQH6AFPMFBQV2).\n",
            "Polling for task (id: 2MRDIIQU27XBQH6AFPMFBQV2).\n",
            "Polling for task (id: 2MRDIIQU27XBQH6AFPMFBQV2).\n",
            "Polling for task (id: 2MRDIIQU27XBQH6AFPMFBQV2).\n",
            "Polling for task (id: 2MRDIIQU27XBQH6AFPMFBQV2).\n",
            "Polling for task (id: 2MRDIIQU27XBQH6AFPMFBQV2).\n",
            "Polling for task (id: 2MRDIIQU27XBQH6AFPMFBQV2).\n",
            "Polling for task (id: 2MRDIIQU27XBQH6AFPMFBQV2).\n",
            "Polling for task (id: 2MRDIIQU27XBQH6AFPMFBQV2).\n",
            "Polling for task (id: 2MRDIIQU27XBQH6AFPMFBQV2).\n",
            "Polling for task (id: 2MRDIIQU27XBQH6AFPMFBQV2).\n",
            "Polling for task (id: 2MRDIIQU27XBQH6AFPMFBQV2).\n",
            "Polling for task (id: 2MRDIIQU27XBQH6AFPMFBQV2).\n",
            "Polling for task (id: 2MRDIIQU27XBQH6AFPMFBQV2).\n",
            "Polling for task (id: 2MRDIIQU27XBQH6AFPMFBQV2).\n",
            "Polling for task (id: 2MRDIIQU27XBQH6AFPMFBQV2).\n",
            "Polling for task (id: 2MRDIIQU27XBQH6AFPMFBQV2).\n",
            "Polling for task (id: 2MRDIIQU27XBQH6AFPMFBQV2).\n",
            "Polling for task (id: 2MRDIIQU27XBQH6AFPMFBQV2).\n",
            "Polling for task (id: 2MRDIIQU27XBQH6AFPMFBQV2).\n",
            "Polling for task (id: 2MRDIIQU27XBQH6AFPMFBQV2).\n",
            "Polling for task (id: 2MRDIIQU27XBQH6AFPMFBQV2).\n",
            "Polling for task (id: 2MRDIIQU27XBQH6AFPMFBQV2).\n",
            "Polling for task (id: 2MRDIIQU27XBQH6AFPMFBQV2).\n",
            "Polling for task (id: 2MRDIIQU27XBQH6AFPMFBQV2).\n",
            "Polling for task (id: 2MRDIIQU27XBQH6AFPMFBQV2).\n",
            "Polling for task (id: 2MRDIIQU27XBQH6AFPMFBQV2).\n",
            "Polling for task (id: 2MRDIIQU27XBQH6AFPMFBQV2).\n",
            "Polling for task (id: 2MRDIIQU27XBQH6AFPMFBQV2).\n",
            "Polling for task (id: 2MRDIIQU27XBQH6AFPMFBQV2).\n",
            "Polling for task (id: 2MRDIIQU27XBQH6AFPMFBQV2).\n",
            "Polling for task (id: 2MRDIIQU27XBQH6AFPMFBQV2).\n",
            "Polling for task (id: 2MRDIIQU27XBQH6AFPMFBQV2).\n",
            "Polling for task (id: 2MRDIIQU27XBQH6AFPMFBQV2).\n",
            "Polling for task (id: 2MRDIIQU27XBQH6AFPMFBQV2).\n",
            "Polling for task (id: 2MRDIIQU27XBQH6AFPMFBQV2).\n",
            "Polling for task (id: 2MRDIIQU27XBQH6AFPMFBQV2).\n",
            "Polling for task (id: 2MRDIIQU27XBQH6AFPMFBQV2).\n",
            "Polling for task (id: 2MRDIIQU27XBQH6AFPMFBQV2).\n",
            "Polling for task (id: 2MRDIIQU27XBQH6AFPMFBQV2).\n",
            "Polling for task (id: 2MRDIIQU27XBQH6AFPMFBQV2).\n",
            "Polling for task (id: 2MRDIIQU27XBQH6AFPMFBQV2).\n",
            "Polling for task (id: 2MRDIIQU27XBQH6AFPMFBQV2).\n",
            "Polling for task (id: 2MRDIIQU27XBQH6AFPMFBQV2).\n",
            "Polling for task (id: 2MRDIIQU27XBQH6AFPMFBQV2).\n",
            "Polling for task (id: 2MRDIIQU27XBQH6AFPMFBQV2).\n",
            "Polling for task (id: 2MRDIIQU27XBQH6AFPMFBQV2).\n",
            "Polling for task (id: 2MRDIIQU27XBQH6AFPMFBQV2).\n",
            "Polling for task (id: 2MRDIIQU27XBQH6AFPMFBQV2).\n",
            "Polling for task (id: 2MRDIIQU27XBQH6AFPMFBQV2).\n",
            "Polling for task (id: 2MRDIIQU27XBQH6AFPMFBQV2).\n",
            "Polling for task (id: 2MRDIIQU27XBQH6AFPMFBQV2).\n",
            "Polling for task (id: 2MRDIIQU27XBQH6AFPMFBQV2).\n",
            "Polling for task (id: 2MRDIIQU27XBQH6AFPMFBQV2).\n",
            "Polling for task (id: 2MRDIIQU27XBQH6AFPMFBQV2).\n",
            "Polling for task (id: 2MRDIIQU27XBQH6AFPMFBQV2).\n",
            "Polling for task (id: 2MRDIIQU27XBQH6AFPMFBQV2).\n",
            "Polling for task (id: 2MRDIIQU27XBQH6AFPMFBQV2).\n",
            "Polling for task (id: 2MRDIIQU27XBQH6AFPMFBQV2).\n",
            "Polling for task (id: 2MRDIIQU27XBQH6AFPMFBQV2).\n",
            "Polling for task (id: 2MRDIIQU27XBQH6AFPMFBQV2).\n",
            "Polling for task (id: 2MRDIIQU27XBQH6AFPMFBQV2).\n",
            "Polling for task (id: 2MRDIIQU27XBQH6AFPMFBQV2).\n",
            "Polling for task (id: 2MRDIIQU27XBQH6AFPMFBQV2).\n",
            "Polling for task (id: 2MRDIIQU27XBQH6AFPMFBQV2).\n",
            "Polling for task (id: 2MRDIIQU27XBQH6AFPMFBQV2).\n",
            "Polling for task (id: 2MRDIIQU27XBQH6AFPMFBQV2).\n",
            "Polling for task (id: 2MRDIIQU27XBQH6AFPMFBQV2).\n",
            "Polling for task (id: 2MRDIIQU27XBQH6AFPMFBQV2).\n",
            "Polling for task (id: 2MRDIIQU27XBQH6AFPMFBQV2).\n",
            "Polling for task (id: 2MRDIIQU27XBQH6AFPMFBQV2).\n",
            "Polling for task (id: 2MRDIIQU27XBQH6AFPMFBQV2).\n",
            "Polling for task (id: 2MRDIIQU27XBQH6AFPMFBQV2).\n",
            "Polling for task (id: 2MRDIIQU27XBQH6AFPMFBQV2).\n",
            "Polling for task (id: 2MRDIIQU27XBQH6AFPMFBQV2).\n",
            "Polling for task (id: 2MRDIIQU27XBQH6AFPMFBQV2).\n",
            "Polling for task (id: 2MRDIIQU27XBQH6AFPMFBQV2).\n",
            "Polling for task (id: 2MRDIIQU27XBQH6AFPMFBQV2).\n"
          ]
        }
      ]
    },
    {
      "cell_type": "markdown",
      "source": [
        "### Mapping"
      ],
      "metadata": {
        "id": "CJsJPTD62ON8"
      }
    },
    {
      "cell_type": "code",
      "source": [
        "Map = geemap.Map()\n",
        "Map.centerObject(roi, 10)\n",
        "#Map.addLayer(waterimg.select('water_75'), {'palette': ['blue', 'white']}, 'Water Classification')\n",
        "#Map.addLayer(waterimg.select('clear_mask'), {'palette': ['grey', 'white']}, 'Clear Mask (buffered)')\n",
        "Map.addLayer(waterimg.select('cloud_mask'), {'palette': ['grey', 'white']}, 'cloud mask')\n",
        "Map.addLayer(iceimg.select('clear_mask'), {'palette': ['grey', 'white']}, 'Clear Mask')\n",
        "Map.addLayer(iceimg.select('ice'), {'palette': ['white', 'orange']}, 'Ice Classification')\n",
        "Map.addLayerControl()\n",
        "Map"
      ],
      "metadata": {
        "colab": {
          "base_uri": "https://localhost:8080/",
          "height": 621,
          "referenced_widgets": [
            "f42d7f8180794e4daecc8839358ebac2",
            "b8ee7b92403043bd968584bd24ff84cb",
            "091ada6900a147319f7d505f03794db2",
            "5c3403518b99438fbb25757424fceea6",
            "fb2582b4c65e4460b51bdd99a3578add",
            "763996c43db041ff88a75da613ab0d8d",
            "f3d881ac3fa640d6b6877ec066510df1",
            "e4edf77d9a9446d7b9ef0e7d750fbc8a",
            "1d5f34a412c84c2296e69cb4b6bcddb2",
            "ab493fc3ec6c4898b2855ec6ad8a10cc",
            "551ebc719a5f42048cedd154ba6115a2",
            "58151c2d7dd047f08fd54f8ff401c70a",
            "d8cd8f1252d94a5098e253ce092e2766",
            "6faf2cb48a924ab1af12ec5b54ad7bbc",
            "527897f6b968436784c52f99399c1dac",
            "7e7538608b9f4a0db77e362c6b69fe7c",
            "d7516ef80ca34ea292cee62e496436d7",
            "43ce192e62d649b5aaeac88d5d7cc235",
            "3b93e69ba72c46fe8f5020af51bffda7",
            "f2e581dc100e43a7a387df093c15a8a5",
            "a92683a6c77247bcac05813c57791775",
            "9b10afb6f91d420493b660d8a919162a",
            "7c75b1769a274f8ea47d93f38e3acc81",
            "c6dc80d0686444f59e3e92d9c5a432bf",
            "a761b9bdc6db41be8f363865769b98e5",
            "4eb7f2f2e7044851ac46b4223e8efb6c",
            "7fab698ae1ca4e6080660a16609976cf",
            "19d6e3989e914e61aa7991e568cec468",
            "28fd1f183a0d49ba8d9f8b4f0b1aa80d",
            "490c298d23ac47909c4f15699883a86f"
          ]
        },
        "id": "tylk4imb3zjW",
        "outputId": "df74857e-d32c-4e01-b7b2-2ac458cc2570"
      },
      "execution_count": null,
      "outputs": [
        {
          "output_type": "display_data",
          "data": {
            "text/plain": [
              "<IPython.core.display.HTML object>"
            ],
            "text/html": [
              "\n",
              "            <style>\n",
              "                .geemap-dark {\n",
              "                    --jp-widgets-color: white;\n",
              "                    --jp-widgets-label-color: white;\n",
              "                    --jp-ui-font-color1: white;\n",
              "                    --jp-layout-color2: #454545;\n",
              "                    background-color: #383838;\n",
              "                }\n",
              "                    \n",
              "                .geemap-dark .jupyter-button {\n",
              "                    --jp-layout-color3: #383838;\n",
              "                }\n",
              "                \n",
              "                .geemap-colab {\n",
              "                    background-color: var(--colab-primary-surface-color, white);\n",
              "                }\n",
              "                    \n",
              "                .geemap-colab .jupyter-button {\n",
              "                    --jp-layout-color3: var(--colab-primary-surface-color, white);\n",
              "                }\n",
              "            </style>\n",
              "            "
            ]
          },
          "metadata": {}
        },
        {
          "output_type": "display_data",
          "data": {
            "text/plain": [
              "Map(center=[61.15840114831195, -161.82207036951954], controls=(WidgetControl(options=['position', 'transparent…"
            ],
            "application/vnd.jupyter.widget-view+json": {
              "version_major": 2,
              "version_minor": 0,
              "model_id": "f42d7f8180794e4daecc8839358ebac2"
            }
          },
          "metadata": {
            "application/vnd.jupyter.widget-view+json": {
              "colab": {
                "custom_widget_manager": {
                  "url": "https://ssl.gstatic.com/colaboratory-static/widgets/colab-cdn-widget-manager/b3e629b1971e1542/manager.min.js"
                }
              }
            }
          }
        }
      ]
    },
    {
      "cell_type": "code",
      "source": [
        "#TEST\n",
        "sample_collection = ee.ImageCollection('COPERNICUS/S2').filterBounds(roi).filterDate(start,finish)\n",
        "\n",
        "classified_collection = sample_collection.map(ice_classify)\n",
        "classified_collection = classified_collection.map(maskS2clouds) #'''not working so removed'''\n",
        "classified_image = ee.Image(classified_collection.first())\n",
        "classified_image = classified_image.clip(lakes_forIce)\n",
        "\n",
        "#VISUALIZE\n",
        "Map = geemap.Map()\n",
        "Map.centerObject(roi, 10)\n",
        "Map.addLayer(classified_image.select('ice'), {'palette': ['blue', 'white']}, 'Ice Classification')\n",
        "Map.addLayer(classified_image.select('cloud_mask'), {'palette': ['red'], 'min': 0, 'max': 1}, 'Cloud Mask')  # Add cloud mask as a layer\n",
        "Map.addLayer(classified_image.select('clear_mask'), {'palette': ['green'], 'min': 0, 'max': 1}, 'Clear Mask')  # Add clear mask as a layer\n",
        "#Map.addLayer(classified_image.select('all'), {'palette': ['gray']}, 'All Bands')\n",
        "#Map.addLayer(roi, {'color': 'red'}, 'ROI')\n",
        "Map.addLayer(lakes_forIce,{'color': 'orange'}, 'Lake Mask (unbuffered)')\n",
        "Map.addLayerControl()\n",
        "Map"
      ],
      "metadata": {
        "id": "9d53Eof8zSX6"
      },
      "execution_count": null,
      "outputs": []
    },
    {
      "cell_type": "markdown",
      "source": [
        "## Classified Image Export (single, collection)"
      ],
      "metadata": {
        "id": "qOo7a2Ow2pmA"
      }
    },
    {
      "cell_type": "markdown",
      "source": [
        "### Single Image"
      ],
      "metadata": {
        "id": "feXtg6sC7kzc"
      }
    },
    {
      "cell_type": "code",
      "source": [
        "#Original visualization\n",
        "single = lakeimages_ice.first().select('ice', 'clear_mask')\n",
        "\n",
        "# Cast all bands to UInt 8\n",
        "single = single.toUint8() #exporting image w/ binary classifications ranging from 0-1, so UInt8\n",
        "\n",
        "task = ee.batch.Export.image.toDrive(**{\n",
        "    'image': single,\n",
        "    'description': 'test_img',\n",
        "    'folder':'Visualization',\n",
        "    'fileFormat': 'GeoTIFF',\n",
        "    'scale': 10,\n",
        "    'region': roi,\n",
        "    'maxPixels': 1e12\n",
        "})\n",
        "task.start()\n",
        "import time\n",
        "while task.active():\n",
        "  print('Polling for task (id: {}).'.format(task.id))\n",
        "  time.sleep(5)"
      ],
      "metadata": {
        "id": "8KpqOa167pgC"
      },
      "execution_count": null,
      "outputs": []
    },
    {
      "cell_type": "markdown",
      "source": [
        "### Image Collection"
      ],
      "metadata": {
        "id": "GQlLy32SZAgJ"
      }
    },
    {
      "cell_type": "code",
      "source": [
        "import folium\n",
        "import time\n",
        "\n",
        "# Define what bands\n",
        "bands_to_select = ['water_75', 'cloud_mask', 'clear_mask']\n",
        "\n",
        "# Iterate through the Image Collection and export each image\n",
        "image_list = lakeimages.toList(lakeimages.size())\n",
        "for i in range(image_list.length().getInfo()):\n",
        "    # Get the current image in the collection\n",
        "    current_image = ee.Image(image_list.get(i))\n",
        "\n",
        "    # Select the desired bands and cast to UInt8\n",
        "    selected_image = current_image.select(bands_to_select).toUint8()\n",
        "\n",
        "    # Get the date from the image's metadata\n",
        "    date = ee.Date(current_image.get('system:time_start'))\n",
        "    date_str = date.format('YYYY-MM-dd').getInfo()  # Format the date as desired\n",
        "\n",
        "    # Use the date as the description\n",
        "    description = 'image_' + date_str\n",
        "\n",
        "    # Define the export task for the current image\n",
        "    task = ee.batch.Export.image.toDrive(**{\n",
        "        'image': selected_image,\n",
        "        'description': description,\n",
        "        'folder': 'Visualization', #have this foler be mapped within YKD_Water folder\n",
        "        'fileFormat': 'GeoTIFF',\n",
        "        'scale': 10,\n",
        "        'region': roi,\n",
        "        'maxPixels': 1e12\n",
        "    })\n",
        "\n",
        "    # Start the export task for the current image\n",
        "    task.start()\n",
        "\n",
        "    # Monitor the task's progress\n",
        "    print('Exporting task (id: {}) - Image {}'.format(task.id, i))\n",
        "\n",
        "    # Wait for the task to complete before moving on to the next image\n",
        "    while task.active():\n",
        "        print('Polling for task (id: {}).'.format(task.id))\n",
        "        time.sleep(5)\n"
      ],
      "metadata": {
        "id": "-8a4eCeYyOkS"
      },
      "execution_count": null,
      "outputs": []
    }
  ],
  "metadata": {
    "colab": {
      "provenance": [],
      "include_colab_link": true
    },
    "kernelspec": {
      "display_name": "Python 3",
      "name": "python3"
    },
    "language_info": {
      "name": "python"
    },
    "widgets": {
      "application/vnd.jupyter.widget-state+json": {
        "f42d7f8180794e4daecc8839358ebac2": {
          "model_module": "jupyter-leaflet",
          "model_name": "LeafletMapModel",
          "model_module_version": "^0.18",
          "state": {
            "_dom_classes": [],
            "_model_module": "jupyter-leaflet",
            "_model_module_version": "^0.18",
            "_model_name": "LeafletMapModel",
            "_view_count": null,
            "_view_module": "jupyter-leaflet",
            "_view_module_version": "^0.18",
            "_view_name": "LeafletMapView",
            "bottom": 148862,
            "bounce_at_zoom_limits": true,
            "box_zoom": true,
            "center": [
              61.24315652023935,
              -161.54162793776158
            ],
            "close_popup_on_click": true,
            "controls": [
              "IPY_MODEL_b8ee7b92403043bd968584bd24ff84cb",
              "IPY_MODEL_091ada6900a147319f7d505f03794db2",
              "IPY_MODEL_5c3403518b99438fbb25757424fceea6",
              "IPY_MODEL_fb2582b4c65e4460b51bdd99a3578add",
              "IPY_MODEL_763996c43db041ff88a75da613ab0d8d",
              "IPY_MODEL_f3d881ac3fa640d6b6877ec066510df1",
              "IPY_MODEL_e4edf77d9a9446d7b9ef0e7d750fbc8a",
              "IPY_MODEL_1d5f34a412c84c2296e69cb4b6bcddb2",
              "IPY_MODEL_ab493fc3ec6c4898b2855ec6ad8a10cc"
            ],
            "crs": {
              "name": "EPSG3857",
              "custom": false
            },
            "default_style": "IPY_MODEL_551ebc719a5f42048cedd154ba6115a2",
            "double_click_zoom": true,
            "dragging": true,
            "dragging_style": "IPY_MODEL_58151c2d7dd047f08fd54f8ff401c70a",
            "east": -161.2223377766288,
            "fullscreen": false,
            "inertia": true,
            "inertia_deceleration": 3000,
            "inertia_max_speed": 1500,
            "interpolation": "bilinear",
            "keyboard": true,
            "keyboard_pan_offset": 80,
            "keyboard_zoom_offset": 1,
            "layers": [
              "IPY_MODEL_d8cd8f1252d94a5098e253ce092e2766",
              "IPY_MODEL_6faf2cb48a924ab1af12ec5b54ad7bbc",
              "IPY_MODEL_527897f6b968436784c52f99399c1dac",
              "IPY_MODEL_7e7538608b9f4a0db77e362c6b69fe7c",
              "IPY_MODEL_d7516ef80ca34ea292cee62e496436d7",
              "IPY_MODEL_43ce192e62d649b5aaeac88d5d7cc235"
            ],
            "layout": "IPY_MODEL_3b93e69ba72c46fe8f5020af51bffda7",
            "left": 26416.95269935238,
            "max_zoom": 24,
            "min_zoom": null,
            "modisdate": "2023-12-06",
            "north": 61.34210266045487,
            "options": [
              "bounce_at_zoom_limits",
              "box_zoom",
              "center",
              "close_popup_on_click",
              "double_click_zoom",
              "dragging",
              "fullscreen",
              "inertia",
              "inertia_deceleration",
              "inertia_max_speed",
              "interpolation",
              "keyboard",
              "keyboard_pan_offset",
              "keyboard_zoom_offset",
              "max_zoom",
              "min_zoom",
              "prefer_canvas",
              "scroll_wheel_zoom",
              "tap",
              "tap_tolerance",
              "touch_zoom",
              "world_copy_jump",
              "zoom",
              "zoom_animation_threshold",
              "zoom_delta",
              "zoom_snap"
            ],
            "panes": {},
            "prefer_canvas": false,
            "right": 27346.95269935238,
            "scroll_wheel_zoom": true,
            "south": 61.14389802382198,
            "style": "IPY_MODEL_551ebc719a5f42048cedd154ba6115a2",
            "tap": true,
            "tap_tolerance": 15,
            "top": 148262,
            "touch_zoom": true,
            "west": -161.86091809889442,
            "window_url": "https://0zscweovzhos-496ff2e9c6d22116-0-colab.googleusercontent.com/outputframe.html?vrz=colab_20231201-060200_RC00_586950161",
            "world_copy_jump": false,
            "zoom": 11,
            "zoom_animation_threshold": 4,
            "zoom_delta": 1,
            "zoom_snap": 1
          }
        },
        "b8ee7b92403043bd968584bd24ff84cb": {
          "model_module": "jupyter-leaflet",
          "model_name": "LeafletWidgetControlModel",
          "model_module_version": "^0.18",
          "state": {
            "_model_module": "jupyter-leaflet",
            "_model_module_version": "^0.18",
            "_model_name": "LeafletWidgetControlModel",
            "_view_count": null,
            "_view_module": "jupyter-leaflet",
            "_view_module_version": "^0.18",
            "_view_name": "LeafletWidgetControlView",
            "max_height": null,
            "max_width": null,
            "min_height": null,
            "min_width": null,
            "options": [
              "position",
              "transparent_bg"
            ],
            "position": "topleft",
            "transparent_bg": false,
            "widget": "IPY_MODEL_a92683a6c77247bcac05813c57791775"
          }
        },
        "091ada6900a147319f7d505f03794db2": {
          "model_module": "jupyter-leaflet",
          "model_name": "LeafletZoomControlModel",
          "model_module_version": "^0.18",
          "state": {
            "_model_module": "jupyter-leaflet",
            "_model_module_version": "^0.18",
            "_model_name": "LeafletZoomControlModel",
            "_view_count": null,
            "_view_module": "jupyter-leaflet",
            "_view_module_version": "^0.18",
            "_view_name": "LeafletZoomControlView",
            "options": [
              "position",
              "zoom_in_text",
              "zoom_in_title",
              "zoom_out_text",
              "zoom_out_title"
            ],
            "position": "topleft",
            "zoom_in_text": "+",
            "zoom_in_title": "Zoom in",
            "zoom_out_text": "-",
            "zoom_out_title": "Zoom out"
          }
        },
        "5c3403518b99438fbb25757424fceea6": {
          "model_module": "jupyter-leaflet",
          "model_name": "LeafletFullScreenControlModel",
          "model_module_version": "^0.18",
          "state": {
            "_model_module": "jupyter-leaflet",
            "_model_module_version": "^0.18",
            "_model_name": "LeafletFullScreenControlModel",
            "_view_count": null,
            "_view_module": "jupyter-leaflet",
            "_view_module_version": "^0.18",
            "_view_name": "LeafletFullScreenControlView",
            "options": [
              "position"
            ],
            "position": "topleft"
          }
        },
        "fb2582b4c65e4460b51bdd99a3578add": {
          "model_module": "jupyter-leaflet",
          "model_name": "LeafletDrawControlModel",
          "model_module_version": "^0.18",
          "state": {
            "_model_module": "jupyter-leaflet",
            "_model_module_version": "^0.18",
            "_model_name": "LeafletDrawControlModel",
            "_view_count": null,
            "_view_module": "jupyter-leaflet",
            "_view_module_version": "^0.18",
            "_view_name": "LeafletDrawControlView",
            "circle": {},
            "circlemarker": {},
            "data": [],
            "edit": true,
            "marker": {
              "shapeOptions": {
                "color": "#3388ff"
              }
            },
            "options": [
              "position"
            ],
            "polygon": {
              "shapeOptions": {}
            },
            "polyline": {
              "shapeOptions": {}
            },
            "position": "topleft",
            "rectangle": {
              "shapeOptions": {
                "color": "#3388ff"
              }
            },
            "remove": true
          }
        },
        "763996c43db041ff88a75da613ab0d8d": {
          "model_module": "jupyter-leaflet",
          "model_name": "LeafletScaleControlModel",
          "model_module_version": "^0.18",
          "state": {
            "_model_module": "jupyter-leaflet",
            "_model_module_version": "^0.18",
            "_model_name": "LeafletScaleControlModel",
            "_view_count": null,
            "_view_module": "jupyter-leaflet",
            "_view_module_version": "^0.18",
            "_view_name": "LeafletScaleControlView",
            "imperial": true,
            "max_width": 100,
            "metric": true,
            "options": [
              "imperial",
              "max_width",
              "metric",
              "position",
              "update_when_idle"
            ],
            "position": "bottomleft",
            "update_when_idle": false
          }
        },
        "f3d881ac3fa640d6b6877ec066510df1": {
          "model_module": "jupyter-leaflet",
          "model_name": "LeafletMeasureControlModel",
          "model_module_version": "^0.18",
          "state": {
            "_custom_units": {},
            "_model_module": "jupyter-leaflet",
            "_model_module_version": "^0.18",
            "_model_name": "LeafletMeasureControlModel",
            "_view_count": null,
            "_view_module": "jupyter-leaflet",
            "_view_module_version": "^0.18",
            "_view_name": "LeafletMeasureControlView",
            "active_color": "orange",
            "capture_z_index": 10000,
            "completed_color": "#C8F2BE",
            "options": [
              "active_color",
              "capture_z_index",
              "completed_color",
              "popup_options",
              "position",
              "primary_area_unit",
              "primary_length_unit",
              "secondary_area_unit",
              "secondary_length_unit"
            ],
            "popup_options": {
              "className": "leaflet-measure-resultpopup",
              "autoPanPadding": [
                10,
                10
              ]
            },
            "position": "bottomleft",
            "primary_area_unit": "acres",
            "primary_length_unit": "kilometers",
            "secondary_area_unit": null,
            "secondary_length_unit": null
          }
        },
        "e4edf77d9a9446d7b9ef0e7d750fbc8a": {
          "model_module": "jupyter-leaflet",
          "model_name": "LeafletWidgetControlModel",
          "model_module_version": "^0.18",
          "state": {
            "_model_module": "jupyter-leaflet",
            "_model_module_version": "^0.18",
            "_model_name": "LeafletWidgetControlModel",
            "_view_count": null,
            "_view_module": "jupyter-leaflet",
            "_view_module_version": "^0.18",
            "_view_name": "LeafletWidgetControlView",
            "max_height": null,
            "max_width": null,
            "min_height": null,
            "min_width": null,
            "options": [
              "position",
              "transparent_bg"
            ],
            "position": "topright",
            "transparent_bg": false,
            "widget": "IPY_MODEL_9b10afb6f91d420493b660d8a919162a"
          }
        },
        "1d5f34a412c84c2296e69cb4b6bcddb2": {
          "model_module": "jupyter-leaflet",
          "model_name": "LeafletAttributionControlModel",
          "model_module_version": "^0.18",
          "state": {
            "_model_module": "jupyter-leaflet",
            "_model_module_version": "^0.18",
            "_model_name": "LeafletAttributionControlModel",
            "_view_count": null,
            "_view_module": "jupyter-leaflet",
            "_view_module_version": "^0.18",
            "_view_name": "LeafletAttributionControlView",
            "options": [
              "position",
              "prefix"
            ],
            "position": "bottomright",
            "prefix": "ipyleaflet"
          }
        },
        "ab493fc3ec6c4898b2855ec6ad8a10cc": {
          "model_module": "jupyter-leaflet",
          "model_name": "LeafletLayersControlModel",
          "model_module_version": "^0.18",
          "state": {
            "_model_module": "jupyter-leaflet",
            "_model_module_version": "^0.18",
            "_model_name": "LeafletLayersControlModel",
            "_view_count": null,
            "_view_module": "jupyter-leaflet",
            "_view_module_version": "^0.18",
            "_view_name": "LeafletLayersControlView",
            "options": [
              "position"
            ],
            "position": "topright"
          }
        },
        "551ebc719a5f42048cedd154ba6115a2": {
          "model_module": "jupyter-leaflet",
          "model_name": "LeafletMapStyleModel",
          "model_module_version": "^0.18",
          "state": {
            "_model_module": "jupyter-leaflet",
            "_model_module_version": "^0.18",
            "_model_name": "LeafletMapStyleModel",
            "_view_count": null,
            "_view_module": "@jupyter-widgets/base",
            "_view_module_version": "1.2.0",
            "_view_name": "StyleView",
            "cursor": "grab"
          }
        },
        "58151c2d7dd047f08fd54f8ff401c70a": {
          "model_module": "jupyter-leaflet",
          "model_name": "LeafletMapStyleModel",
          "model_module_version": "^0.18",
          "state": {
            "_model_module": "jupyter-leaflet",
            "_model_module_version": "^0.18",
            "_model_name": "LeafletMapStyleModel",
            "_view_count": null,
            "_view_module": "@jupyter-widgets/base",
            "_view_module_version": "1.2.0",
            "_view_name": "StyleView",
            "cursor": "move"
          }
        },
        "d8cd8f1252d94a5098e253ce092e2766": {
          "model_module": "jupyter-leaflet",
          "model_name": "LeafletTileLayerModel",
          "model_module_version": "^0.18",
          "state": {
            "_model_module": "jupyter-leaflet",
            "_model_module_version": "^0.18",
            "_model_name": "LeafletTileLayerModel",
            "_view_count": null,
            "_view_module": "jupyter-leaflet",
            "_view_module_version": "^0.18",
            "_view_name": "LeafletTileLayerView",
            "attribution": "&copy; <a href=\"https://www.openstreetmap.org/copyright\">OpenStreetMap</a> contributors",
            "base": true,
            "bottom": true,
            "bounds": null,
            "detect_retina": false,
            "loading": false,
            "max_native_zoom": null,
            "max_zoom": 19,
            "min_native_zoom": null,
            "min_zoom": 1,
            "name": "OpenStreetMap.Mapnik",
            "no_wrap": false,
            "opacity": 1,
            "options": [
              "attribution",
              "bounds",
              "detect_retina",
              "max_native_zoom",
              "max_zoom",
              "min_native_zoom",
              "min_zoom",
              "no_wrap",
              "tile_size",
              "tms",
              "zoom_offset"
            ],
            "pane": "",
            "popup": null,
            "popup_max_height": null,
            "popup_max_width": 300,
            "popup_min_width": 50,
            "show_loading": false,
            "subitems": [],
            "tile_size": 256,
            "tms": false,
            "url": "https://tile.openstreetmap.org/{z}/{x}/{y}.png",
            "visible": true,
            "zoom_offset": 0
          }
        },
        "6faf2cb48a924ab1af12ec5b54ad7bbc": {
          "model_module": "jupyter-leaflet",
          "model_name": "LeafletTileLayerModel",
          "model_module_version": "^0.18",
          "state": {
            "_model_module": "jupyter-leaflet",
            "_model_module_version": "^0.18",
            "_model_name": "LeafletTileLayerModel",
            "_view_count": null,
            "_view_module": "jupyter-leaflet",
            "_view_module_version": "^0.18",
            "_view_name": "LeafletTileLayerView",
            "attribution": "Google Earth Engine",
            "base": false,
            "bottom": true,
            "bounds": null,
            "detect_retina": false,
            "loading": false,
            "max_native_zoom": null,
            "max_zoom": 24,
            "min_native_zoom": null,
            "min_zoom": 0,
            "name": "Clear Mask (water)",
            "no_wrap": false,
            "opacity": 1,
            "options": [
              "attribution",
              "bounds",
              "detect_retina",
              "max_native_zoom",
              "max_zoom",
              "min_native_zoom",
              "min_zoom",
              "no_wrap",
              "tile_size",
              "tms",
              "zoom_offset"
            ],
            "pane": "",
            "popup": null,
            "popup_max_height": null,
            "popup_max_width": 300,
            "popup_min_width": 50,
            "show_loading": false,
            "subitems": [],
            "tile_size": 256,
            "tms": false,
            "url": "https://earthengine.googleapis.com/v1/projects/earthengine-legacy/maps/06c7638fbe8662afc17467e9f1d8c87f-249a4de69731f1ea7dbb1fe4dee362cd/tiles/{z}/{x}/{y}",
            "visible": true,
            "zoom_offset": 0
          }
        },
        "527897f6b968436784c52f99399c1dac": {
          "model_module": "jupyter-leaflet",
          "model_name": "LeafletTileLayerModel",
          "model_module_version": "^0.18",
          "state": {
            "_model_module": "jupyter-leaflet",
            "_model_module_version": "^0.18",
            "_model_name": "LeafletTileLayerModel",
            "_view_count": null,
            "_view_module": "jupyter-leaflet",
            "_view_module_version": "^0.18",
            "_view_name": "LeafletTileLayerView",
            "attribution": "Google Earth Engine",
            "base": false,
            "bottom": true,
            "bounds": null,
            "detect_retina": false,
            "loading": false,
            "max_native_zoom": null,
            "max_zoom": 24,
            "min_native_zoom": null,
            "min_zoom": 0,
            "name": "cloud mask",
            "no_wrap": false,
            "opacity": 1,
            "options": [
              "attribution",
              "bounds",
              "detect_retina",
              "max_native_zoom",
              "max_zoom",
              "min_native_zoom",
              "min_zoom",
              "no_wrap",
              "tile_size",
              "tms",
              "zoom_offset"
            ],
            "pane": "",
            "popup": null,
            "popup_max_height": null,
            "popup_max_width": 300,
            "popup_min_width": 50,
            "show_loading": false,
            "subitems": [],
            "tile_size": 256,
            "tms": false,
            "url": "https://earthengine.googleapis.com/v1/projects/earthengine-legacy/maps/85e10a0459ea3ca82093df31bbaa6885-404e51f839f68ec9fc1afb9d317cd907/tiles/{z}/{x}/{y}",
            "visible": true,
            "zoom_offset": 0
          }
        },
        "7e7538608b9f4a0db77e362c6b69fe7c": {
          "model_module": "jupyter-leaflet",
          "model_name": "LeafletTileLayerModel",
          "model_module_version": "^0.18",
          "state": {
            "_model_module": "jupyter-leaflet",
            "_model_module_version": "^0.18",
            "_model_name": "LeafletTileLayerModel",
            "_view_count": null,
            "_view_module": "jupyter-leaflet",
            "_view_module_version": "^0.18",
            "_view_name": "LeafletTileLayerView",
            "attribution": "Google Earth Engine",
            "base": false,
            "bottom": true,
            "bounds": null,
            "detect_retina": false,
            "loading": false,
            "max_native_zoom": null,
            "max_zoom": 24,
            "min_native_zoom": null,
            "min_zoom": 0,
            "name": "Cloud Mask (Full ROI)",
            "no_wrap": false,
            "opacity": 1,
            "options": [
              "attribution",
              "bounds",
              "detect_retina",
              "max_native_zoom",
              "max_zoom",
              "min_native_zoom",
              "min_zoom",
              "no_wrap",
              "tile_size",
              "tms",
              "zoom_offset"
            ],
            "pane": "",
            "popup": null,
            "popup_max_height": null,
            "popup_max_width": 300,
            "popup_min_width": 50,
            "show_loading": false,
            "subitems": [],
            "tile_size": 256,
            "tms": false,
            "url": "https://earthengine.googleapis.com/v1/projects/earthengine-legacy/maps/85e10a0459ea3ca82093df31bbaa6885-dbbe953b7d984b6c084d5c44cafd52fc/tiles/{z}/{x}/{y}",
            "visible": true,
            "zoom_offset": 0
          }
        },
        "d7516ef80ca34ea292cee62e496436d7": {
          "model_module": "jupyter-leaflet",
          "model_name": "LeafletTileLayerModel",
          "model_module_version": "^0.18",
          "state": {
            "_model_module": "jupyter-leaflet",
            "_model_module_version": "^0.18",
            "_model_name": "LeafletTileLayerModel",
            "_view_count": null,
            "_view_module": "jupyter-leaflet",
            "_view_module_version": "^0.18",
            "_view_name": "LeafletTileLayerView",
            "attribution": "Google Earth Engine",
            "base": false,
            "bottom": true,
            "bounds": null,
            "detect_retina": false,
            "loading": false,
            "max_native_zoom": null,
            "max_zoom": 24,
            "min_native_zoom": null,
            "min_zoom": 0,
            "name": "Clear Mask (ice)",
            "no_wrap": false,
            "opacity": 1,
            "options": [
              "attribution",
              "bounds",
              "detect_retina",
              "max_native_zoom",
              "max_zoom",
              "min_native_zoom",
              "min_zoom",
              "no_wrap",
              "tile_size",
              "tms",
              "zoom_offset"
            ],
            "pane": "",
            "popup": null,
            "popup_max_height": null,
            "popup_max_width": 300,
            "popup_min_width": 50,
            "show_loading": false,
            "subitems": [],
            "tile_size": 256,
            "tms": false,
            "url": "https://earthengine.googleapis.com/v1/projects/earthengine-legacy/maps/678219defb29e4d2620f62db565230d6-d365e9bdedf26b1808ff0eb42ae6f12b/tiles/{z}/{x}/{y}",
            "visible": true,
            "zoom_offset": 0
          }
        },
        "43ce192e62d649b5aaeac88d5d7cc235": {
          "model_module": "jupyter-leaflet",
          "model_name": "LeafletTileLayerModel",
          "model_module_version": "^0.18",
          "state": {
            "_model_module": "jupyter-leaflet",
            "_model_module_version": "^0.18",
            "_model_name": "LeafletTileLayerModel",
            "_view_count": null,
            "_view_module": "jupyter-leaflet",
            "_view_module_version": "^0.18",
            "_view_name": "LeafletTileLayerView",
            "attribution": "Google Earth Engine",
            "base": false,
            "bottom": true,
            "bounds": null,
            "detect_retina": false,
            "loading": false,
            "max_native_zoom": null,
            "max_zoom": 24,
            "min_native_zoom": null,
            "min_zoom": 0,
            "name": "Ice Classification",
            "no_wrap": false,
            "opacity": 1,
            "options": [
              "attribution",
              "bounds",
              "detect_retina",
              "max_native_zoom",
              "max_zoom",
              "min_native_zoom",
              "min_zoom",
              "no_wrap",
              "tile_size",
              "tms",
              "zoom_offset"
            ],
            "pane": "",
            "popup": null,
            "popup_max_height": null,
            "popup_max_width": 300,
            "popup_min_width": 50,
            "show_loading": false,
            "subitems": [],
            "tile_size": 256,
            "tms": false,
            "url": "https://earthengine.googleapis.com/v1/projects/earthengine-legacy/maps/37d7b967107f5e96d9a800eca44998c2-fa1910bdc112e67cc883daa648ee8c17/tiles/{z}/{x}/{y}",
            "visible": true,
            "zoom_offset": 0
          }
        },
        "3b93e69ba72c46fe8f5020af51bffda7": {
          "model_module": "@jupyter-widgets/base",
          "model_name": "LayoutModel",
          "model_module_version": "1.2.0",
          "state": {
            "_model_module": "@jupyter-widgets/base",
            "_model_module_version": "1.2.0",
            "_model_name": "LayoutModel",
            "_view_count": null,
            "_view_module": "@jupyter-widgets/base",
            "_view_module_version": "1.2.0",
            "_view_name": "LayoutView",
            "align_content": null,
            "align_items": null,
            "align_self": null,
            "border": null,
            "bottom": null,
            "display": null,
            "flex": null,
            "flex_flow": null,
            "grid_area": null,
            "grid_auto_columns": null,
            "grid_auto_flow": null,
            "grid_auto_rows": null,
            "grid_column": null,
            "grid_gap": null,
            "grid_row": null,
            "grid_template_areas": null,
            "grid_template_columns": null,
            "grid_template_rows": null,
            "height": "600px",
            "justify_content": null,
            "justify_items": null,
            "left": null,
            "margin": null,
            "max_height": null,
            "max_width": null,
            "min_height": null,
            "min_width": null,
            "object_fit": null,
            "object_position": null,
            "order": null,
            "overflow": null,
            "overflow_x": null,
            "overflow_y": null,
            "padding": null,
            "right": null,
            "top": null,
            "visibility": null,
            "width": null
          }
        },
        "f2e581dc100e43a7a387df093c15a8a5": {
          "model_module": "jupyter-leaflet",
          "model_name": "LeafletMapStyleModel",
          "model_module_version": "^0.18",
          "state": {
            "_model_module": "jupyter-leaflet",
            "_model_module_version": "^0.18",
            "_model_name": "LeafletMapStyleModel",
            "_view_count": null,
            "_view_module": "@jupyter-widgets/base",
            "_view_module_version": "1.2.0",
            "_view_name": "StyleView",
            "cursor": "grab"
          }
        },
        "a92683a6c77247bcac05813c57791775": {
          "model_module": "@jupyter-widgets/controls",
          "model_name": "HBoxModel",
          "model_module_version": "1.5.0",
          "state": {
            "_dom_classes": [
              "geemap-colab"
            ],
            "_model_module": "@jupyter-widgets/controls",
            "_model_module_version": "1.5.0",
            "_model_name": "HBoxModel",
            "_view_count": null,
            "_view_module": "@jupyter-widgets/controls",
            "_view_module_version": "1.5.0",
            "_view_name": "HBoxView",
            "box_style": "",
            "children": [
              "IPY_MODEL_7c75b1769a274f8ea47d93f38e3acc81"
            ],
            "layout": "IPY_MODEL_c6dc80d0686444f59e3e92d9c5a432bf"
          }
        },
        "9b10afb6f91d420493b660d8a919162a": {
          "model_module": "@jupyter-widgets/controls",
          "model_name": "VBoxModel",
          "model_module_version": "1.5.0",
          "state": {
            "_dom_classes": [
              "geemap-colab"
            ],
            "_model_module": "@jupyter-widgets/controls",
            "_model_module_version": "1.5.0",
            "_model_name": "VBoxModel",
            "_view_count": null,
            "_view_module": "@jupyter-widgets/controls",
            "_view_module_version": "1.5.0",
            "_view_name": "VBoxView",
            "box_style": "",
            "children": [
              "IPY_MODEL_a761b9bdc6db41be8f363865769b98e5"
            ],
            "layout": "IPY_MODEL_4eb7f2f2e7044851ac46b4223e8efb6c"
          }
        },
        "7c75b1769a274f8ea47d93f38e3acc81": {
          "model_module": "@jupyter-widgets/controls",
          "model_name": "ToggleButtonModel",
          "model_module_version": "1.5.0",
          "state": {
            "_dom_classes": [],
            "_model_module": "@jupyter-widgets/controls",
            "_model_module_version": "1.5.0",
            "_model_name": "ToggleButtonModel",
            "_view_count": null,
            "_view_module": "@jupyter-widgets/controls",
            "_view_module_version": "1.5.0",
            "_view_name": "ToggleButtonView",
            "button_style": "",
            "description": "",
            "description_tooltip": null,
            "disabled": false,
            "icon": "globe",
            "layout": "IPY_MODEL_7fab698ae1ca4e6080660a16609976cf",
            "style": "IPY_MODEL_19d6e3989e914e61aa7991e568cec468",
            "tooltip": "Search location/data",
            "value": false
          }
        },
        "c6dc80d0686444f59e3e92d9c5a432bf": {
          "model_module": "@jupyter-widgets/base",
          "model_name": "LayoutModel",
          "model_module_version": "1.2.0",
          "state": {
            "_model_module": "@jupyter-widgets/base",
            "_model_module_version": "1.2.0",
            "_model_name": "LayoutModel",
            "_view_count": null,
            "_view_module": "@jupyter-widgets/base",
            "_view_module_version": "1.2.0",
            "_view_name": "LayoutView",
            "align_content": null,
            "align_items": null,
            "align_self": null,
            "border": null,
            "bottom": null,
            "display": null,
            "flex": null,
            "flex_flow": null,
            "grid_area": null,
            "grid_auto_columns": null,
            "grid_auto_flow": null,
            "grid_auto_rows": null,
            "grid_column": null,
            "grid_gap": null,
            "grid_row": null,
            "grid_template_areas": null,
            "grid_template_columns": null,
            "grid_template_rows": null,
            "height": null,
            "justify_content": null,
            "justify_items": null,
            "left": null,
            "margin": null,
            "max_height": null,
            "max_width": null,
            "min_height": null,
            "min_width": null,
            "object_fit": null,
            "object_position": null,
            "order": null,
            "overflow": null,
            "overflow_x": null,
            "overflow_y": null,
            "padding": null,
            "right": null,
            "top": null,
            "visibility": null,
            "width": null
          }
        },
        "a761b9bdc6db41be8f363865769b98e5": {
          "model_module": "@jupyter-widgets/controls",
          "model_name": "ToggleButtonModel",
          "model_module_version": "1.5.0",
          "state": {
            "_dom_classes": [],
            "_model_module": "@jupyter-widgets/controls",
            "_model_module_version": "1.5.0",
            "_model_name": "ToggleButtonModel",
            "_view_count": null,
            "_view_module": "@jupyter-widgets/controls",
            "_view_module_version": "1.5.0",
            "_view_name": "ToggleButtonView",
            "button_style": "",
            "description": "",
            "description_tooltip": null,
            "disabled": false,
            "icon": "wrench",
            "layout": "IPY_MODEL_28fd1f183a0d49ba8d9f8b4f0b1aa80d",
            "style": "IPY_MODEL_490c298d23ac47909c4f15699883a86f",
            "tooltip": "Toolbar",
            "value": false
          }
        },
        "4eb7f2f2e7044851ac46b4223e8efb6c": {
          "model_module": "@jupyter-widgets/base",
          "model_name": "LayoutModel",
          "model_module_version": "1.2.0",
          "state": {
            "_model_module": "@jupyter-widgets/base",
            "_model_module_version": "1.2.0",
            "_model_name": "LayoutModel",
            "_view_count": null,
            "_view_module": "@jupyter-widgets/base",
            "_view_module_version": "1.2.0",
            "_view_name": "LayoutView",
            "align_content": null,
            "align_items": null,
            "align_self": null,
            "border": null,
            "bottom": null,
            "display": null,
            "flex": null,
            "flex_flow": null,
            "grid_area": null,
            "grid_auto_columns": null,
            "grid_auto_flow": null,
            "grid_auto_rows": null,
            "grid_column": null,
            "grid_gap": null,
            "grid_row": null,
            "grid_template_areas": null,
            "grid_template_columns": null,
            "grid_template_rows": null,
            "height": null,
            "justify_content": null,
            "justify_items": null,
            "left": null,
            "margin": null,
            "max_height": null,
            "max_width": null,
            "min_height": null,
            "min_width": null,
            "object_fit": null,
            "object_position": null,
            "order": null,
            "overflow": null,
            "overflow_x": null,
            "overflow_y": null,
            "padding": null,
            "right": null,
            "top": null,
            "visibility": null,
            "width": null
          }
        },
        "7fab698ae1ca4e6080660a16609976cf": {
          "model_module": "@jupyter-widgets/base",
          "model_name": "LayoutModel",
          "model_module_version": "1.2.0",
          "state": {
            "_model_module": "@jupyter-widgets/base",
            "_model_module_version": "1.2.0",
            "_model_name": "LayoutModel",
            "_view_count": null,
            "_view_module": "@jupyter-widgets/base",
            "_view_module_version": "1.2.0",
            "_view_name": "LayoutView",
            "align_content": null,
            "align_items": null,
            "align_self": null,
            "border": null,
            "bottom": null,
            "display": null,
            "flex": null,
            "flex_flow": null,
            "grid_area": null,
            "grid_auto_columns": null,
            "grid_auto_flow": null,
            "grid_auto_rows": null,
            "grid_column": null,
            "grid_gap": null,
            "grid_row": null,
            "grid_template_areas": null,
            "grid_template_columns": null,
            "grid_template_rows": null,
            "height": "28px",
            "justify_content": null,
            "justify_items": null,
            "left": null,
            "margin": null,
            "max_height": null,
            "max_width": null,
            "min_height": null,
            "min_width": null,
            "object_fit": null,
            "object_position": null,
            "order": null,
            "overflow": null,
            "overflow_x": null,
            "overflow_y": null,
            "padding": "0px 0px 0px 4px",
            "right": null,
            "top": null,
            "visibility": null,
            "width": "28px"
          }
        },
        "19d6e3989e914e61aa7991e568cec468": {
          "model_module": "@jupyter-widgets/controls",
          "model_name": "DescriptionStyleModel",
          "model_module_version": "1.5.0",
          "state": {
            "_model_module": "@jupyter-widgets/controls",
            "_model_module_version": "1.5.0",
            "_model_name": "DescriptionStyleModel",
            "_view_count": null,
            "_view_module": "@jupyter-widgets/base",
            "_view_module_version": "1.2.0",
            "_view_name": "StyleView",
            "description_width": ""
          }
        },
        "28fd1f183a0d49ba8d9f8b4f0b1aa80d": {
          "model_module": "@jupyter-widgets/base",
          "model_name": "LayoutModel",
          "model_module_version": "1.2.0",
          "state": {
            "_model_module": "@jupyter-widgets/base",
            "_model_module_version": "1.2.0",
            "_model_name": "LayoutModel",
            "_view_count": null,
            "_view_module": "@jupyter-widgets/base",
            "_view_module_version": "1.2.0",
            "_view_name": "LayoutView",
            "align_content": null,
            "align_items": null,
            "align_self": null,
            "border": null,
            "bottom": null,
            "display": null,
            "flex": null,
            "flex_flow": null,
            "grid_area": null,
            "grid_auto_columns": null,
            "grid_auto_flow": null,
            "grid_auto_rows": null,
            "grid_column": null,
            "grid_gap": null,
            "grid_row": null,
            "grid_template_areas": null,
            "grid_template_columns": null,
            "grid_template_rows": null,
            "height": "28px",
            "justify_content": null,
            "justify_items": null,
            "left": null,
            "margin": null,
            "max_height": null,
            "max_width": null,
            "min_height": null,
            "min_width": null,
            "object_fit": null,
            "object_position": null,
            "order": null,
            "overflow": null,
            "overflow_x": null,
            "overflow_y": null,
            "padding": "0px 0px 0px 4px",
            "right": null,
            "top": null,
            "visibility": null,
            "width": "28px"
          }
        },
        "490c298d23ac47909c4f15699883a86f": {
          "model_module": "@jupyter-widgets/controls",
          "model_name": "DescriptionStyleModel",
          "model_module_version": "1.5.0",
          "state": {
            "_model_module": "@jupyter-widgets/controls",
            "_model_module_version": "1.5.0",
            "_model_name": "DescriptionStyleModel",
            "_view_count": null,
            "_view_module": "@jupyter-widgets/base",
            "_view_module_version": "1.2.0",
            "_view_name": "StyleView",
            "description_width": ""
          }
        }
      }
    }
  },
  "nbformat": 4,
  "nbformat_minor": 0
}